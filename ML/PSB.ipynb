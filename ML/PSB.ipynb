{
 "cells": [
  {
   "cell_type": "markdown",
   "metadata": {},
   "source": [
    "## Phosphate Solubilizing Bacterial - Dataset"
   ]
  },
  {
   "cell_type": "code",
   "execution_count": 16,
   "metadata": {},
   "outputs": [],
   "source": [
    "import pandas as pd\n",
    "import numpy as np\n",
    "import seaborn as sns\n",
    "import matplotlib.pyplot as plt\n",
    "%matplotlib inline"
   ]
  },
  {
   "cell_type": "code",
   "execution_count": 17,
   "metadata": {},
   "outputs": [
    {
     "data": {
      "text/html": [
       "<div>\n",
       "<style scoped>\n",
       "    .dataframe tbody tr th:only-of-type {\n",
       "        vertical-align: middle;\n",
       "    }\n",
       "\n",
       "    .dataframe tbody tr th {\n",
       "        vertical-align: top;\n",
       "    }\n",
       "\n",
       "    .dataframe thead th {\n",
       "        text-align: right;\n",
       "    }\n",
       "</style>\n",
       "<table border=\"1\" class=\"dataframe\">\n",
       "  <thead>\n",
       "    <tr style=\"text-align: right;\">\n",
       "      <th></th>\n",
       "      <th>Label no</th>\n",
       "      <th>pH</th>\n",
       "      <th>EC</th>\n",
       "      <th>Bulk_Density</th>\n",
       "      <th>Porosity</th>\n",
       "      <th>MC</th>\n",
       "      <th>Viability</th>\n",
       "    </tr>\n",
       "  </thead>\n",
       "  <tbody>\n",
       "    <tr>\n",
       "      <th>0</th>\n",
       "      <td>1</td>\n",
       "      <td>5.72</td>\n",
       "      <td>108.3</td>\n",
       "      <td>1.25345</td>\n",
       "      <td>52.7</td>\n",
       "      <td>21.7</td>\n",
       "      <td>1</td>\n",
       "    </tr>\n",
       "    <tr>\n",
       "      <th>1</th>\n",
       "      <td>2</td>\n",
       "      <td>5.82</td>\n",
       "      <td>105.8</td>\n",
       "      <td>1.52110</td>\n",
       "      <td>42.6</td>\n",
       "      <td>10.8</td>\n",
       "      <td>0</td>\n",
       "    </tr>\n",
       "    <tr>\n",
       "      <th>2</th>\n",
       "      <td>3</td>\n",
       "      <td>6.73</td>\n",
       "      <td>123.3</td>\n",
       "      <td>1.44160</td>\n",
       "      <td>45.6</td>\n",
       "      <td>23.5</td>\n",
       "      <td>1</td>\n",
       "    </tr>\n",
       "    <tr>\n",
       "      <th>3</th>\n",
       "      <td>4</td>\n",
       "      <td>5.69</td>\n",
       "      <td>129.2</td>\n",
       "      <td>1.31705</td>\n",
       "      <td>50.3</td>\n",
       "      <td>15.3</td>\n",
       "      <td>1</td>\n",
       "    </tr>\n",
       "    <tr>\n",
       "      <th>4</th>\n",
       "      <td>5</td>\n",
       "      <td>5.68</td>\n",
       "      <td>99.1</td>\n",
       "      <td>1.27730</td>\n",
       "      <td>51.8</td>\n",
       "      <td>12.3</td>\n",
       "      <td>0</td>\n",
       "    </tr>\n",
       "    <tr>\n",
       "      <th>5</th>\n",
       "      <td>6</td>\n",
       "      <td>5.66</td>\n",
       "      <td>125.3</td>\n",
       "      <td>1.33560</td>\n",
       "      <td>49.6</td>\n",
       "      <td>18.7</td>\n",
       "      <td>1</td>\n",
       "    </tr>\n",
       "    <tr>\n",
       "      <th>6</th>\n",
       "      <td>7</td>\n",
       "      <td>5.77</td>\n",
       "      <td>113.3</td>\n",
       "      <td>1.55290</td>\n",
       "      <td>41.4</td>\n",
       "      <td>10.9</td>\n",
       "      <td>0</td>\n",
       "    </tr>\n",
       "    <tr>\n",
       "      <th>7</th>\n",
       "      <td>8</td>\n",
       "      <td>5.73</td>\n",
       "      <td>112.8</td>\n",
       "      <td>1.42570</td>\n",
       "      <td>46.2</td>\n",
       "      <td>19.3</td>\n",
       "      <td>1</td>\n",
       "    </tr>\n",
       "    <tr>\n",
       "      <th>8</th>\n",
       "      <td>9</td>\n",
       "      <td>5.78</td>\n",
       "      <td>100.5</td>\n",
       "      <td>1.31705</td>\n",
       "      <td>50.3</td>\n",
       "      <td>20.7</td>\n",
       "      <td>1</td>\n",
       "    </tr>\n",
       "    <tr>\n",
       "      <th>9</th>\n",
       "      <td>10</td>\n",
       "      <td>5.74</td>\n",
       "      <td>131.8</td>\n",
       "      <td>1.44160</td>\n",
       "      <td>45.6</td>\n",
       "      <td>18.6</td>\n",
       "      <td>1</td>\n",
       "    </tr>\n",
       "  </tbody>\n",
       "</table>\n",
       "</div>"
      ],
      "text/plain": [
       "   Label no    pH     EC  Bulk_Density  Porosity    MC  Viability\n",
       "0         1  5.72  108.3       1.25345      52.7  21.7          1\n",
       "1         2  5.82  105.8       1.52110      42.6  10.8          0\n",
       "2         3  6.73  123.3       1.44160      45.6  23.5          1\n",
       "3         4  5.69  129.2       1.31705      50.3  15.3          1\n",
       "4         5  5.68   99.1       1.27730      51.8  12.3          0\n",
       "5         6  5.66  125.3       1.33560      49.6  18.7          1\n",
       "6         7  5.77  113.3       1.55290      41.4  10.9          0\n",
       "7         8  5.73  112.8       1.42570      46.2  19.3          1\n",
       "8         9  5.78  100.5       1.31705      50.3  20.7          1\n",
       "9        10  5.74  131.8       1.44160      45.6  18.6          1"
      ]
     },
     "execution_count": 17,
     "metadata": {},
     "output_type": "execute_result"
    }
   ],
   "source": [
    "psb_data = pd.read_csv('resources/phosphate_solubilizing_bacteria.csv')\n",
    "psb_data.head(10)"
   ]
  },
  {
   "cell_type": "code",
   "execution_count": 3,
   "metadata": {},
   "outputs": [
    {
     "data": {
      "text/plain": [
       "Label no        1015\n",
       "pH              1015\n",
       "EC              1015\n",
       "Bulk_Density    1015\n",
       "Porosity        1015\n",
       "MC              1015\n",
       "Viability       1015\n",
       "dtype: int64"
      ]
     },
     "execution_count": 3,
     "metadata": {},
     "output_type": "execute_result"
    }
   ],
   "source": [
    "psb_data.count()"
   ]
  },
  {
   "cell_type": "markdown",
   "metadata": {},
   "source": [
    "### Observations and Analysis ###"
   ]
  },
  {
   "cell_type": "code",
   "execution_count": 4,
   "metadata": {},
   "outputs": [
    {
     "name": "stdout",
     "output_type": "stream",
     "text": [
      "<class 'pandas.core.frame.DataFrame'>\n",
      "RangeIndex: 1015 entries, 0 to 1014\n",
      "Data columns (total 7 columns):\n",
      " #   Column        Non-Null Count  Dtype  \n",
      "---  ------        --------------  -----  \n",
      " 0   Label no      1015 non-null   int64  \n",
      " 1   pH            1015 non-null   float64\n",
      " 2   EC            1015 non-null   float64\n",
      " 3   Bulk_Density  1015 non-null   float64\n",
      " 4   Porosity      1015 non-null   float64\n",
      " 5   MC            1015 non-null   float64\n",
      " 6   Viability     1015 non-null   int64  \n",
      "dtypes: float64(5), int64(2)\n",
      "memory usage: 55.6 KB\n"
     ]
    }
   ],
   "source": [
    "psb_data.info()"
   ]
  },
  {
   "cell_type": "code",
   "execution_count": 5,
   "metadata": {},
   "outputs": [
    {
     "data": {
      "text/html": [
       "<div>\n",
       "<style scoped>\n",
       "    .dataframe tbody tr th:only-of-type {\n",
       "        vertical-align: middle;\n",
       "    }\n",
       "\n",
       "    .dataframe tbody tr th {\n",
       "        vertical-align: top;\n",
       "    }\n",
       "\n",
       "    .dataframe thead th {\n",
       "        text-align: right;\n",
       "    }\n",
       "</style>\n",
       "<table border=\"1\" class=\"dataframe\">\n",
       "  <thead>\n",
       "    <tr style=\"text-align: right;\">\n",
       "      <th></th>\n",
       "      <th>Label no</th>\n",
       "      <th>pH</th>\n",
       "      <th>EC</th>\n",
       "      <th>Bulk_Density</th>\n",
       "      <th>Porosity</th>\n",
       "      <th>MC</th>\n",
       "      <th>Viability</th>\n",
       "    </tr>\n",
       "  </thead>\n",
       "  <tbody>\n",
       "    <tr>\n",
       "      <th>count</th>\n",
       "      <td>1015.000000</td>\n",
       "      <td>1015.000000</td>\n",
       "      <td>1015.000000</td>\n",
       "      <td>1015.000000</td>\n",
       "      <td>1015.000000</td>\n",
       "      <td>1015.000000</td>\n",
       "      <td>1015.000000</td>\n",
       "    </tr>\n",
       "    <tr>\n",
       "      <th>mean</th>\n",
       "      <td>508.000000</td>\n",
       "      <td>5.815281</td>\n",
       "      <td>104.785074</td>\n",
       "      <td>1.404561</td>\n",
       "      <td>46.911783</td>\n",
       "      <td>15.633153</td>\n",
       "      <td>0.498522</td>\n",
       "    </tr>\n",
       "    <tr>\n",
       "      <th>std</th>\n",
       "      <td>293.149564</td>\n",
       "      <td>0.285896</td>\n",
       "      <td>25.100683</td>\n",
       "      <td>0.149598</td>\n",
       "      <td>5.682429</td>\n",
       "      <td>4.050141</td>\n",
       "      <td>0.500244</td>\n",
       "    </tr>\n",
       "    <tr>\n",
       "      <th>min</th>\n",
       "      <td>1.000000</td>\n",
       "      <td>4.090000</td>\n",
       "      <td>34.900000</td>\n",
       "      <td>1.022900</td>\n",
       "      <td>8.300000</td>\n",
       "      <td>4.200000</td>\n",
       "      <td>0.000000</td>\n",
       "    </tr>\n",
       "    <tr>\n",
       "      <th>25%</th>\n",
       "      <td>254.500000</td>\n",
       "      <td>5.690000</td>\n",
       "      <td>85.650000</td>\n",
       "      <td>1.306450</td>\n",
       "      <td>44.200000</td>\n",
       "      <td>12.550000</td>\n",
       "      <td>0.000000</td>\n",
       "    </tr>\n",
       "    <tr>\n",
       "      <th>50%</th>\n",
       "      <td>508.000000</td>\n",
       "      <td>5.790000</td>\n",
       "      <td>105.700000</td>\n",
       "      <td>1.388600</td>\n",
       "      <td>47.600000</td>\n",
       "      <td>15.300000</td>\n",
       "      <td>0.000000</td>\n",
       "    </tr>\n",
       "    <tr>\n",
       "      <th>75%</th>\n",
       "      <td>761.500000</td>\n",
       "      <td>5.920000</td>\n",
       "      <td>118.500000</td>\n",
       "      <td>1.476050</td>\n",
       "      <td>50.700000</td>\n",
       "      <td>18.500000</td>\n",
       "      <td>1.000000</td>\n",
       "    </tr>\n",
       "    <tr>\n",
       "      <th>max</th>\n",
       "      <td>1015.000000</td>\n",
       "      <td>6.810000</td>\n",
       "      <td>252.000000</td>\n",
       "      <td>2.430050</td>\n",
       "      <td>61.400000</td>\n",
       "      <td>29.300000</td>\n",
       "      <td>1.000000</td>\n",
       "    </tr>\n",
       "  </tbody>\n",
       "</table>\n",
       "</div>"
      ],
      "text/plain": [
       "          Label no           pH           EC  Bulk_Density     Porosity  \\\n",
       "count  1015.000000  1015.000000  1015.000000   1015.000000  1015.000000   \n",
       "mean    508.000000     5.815281   104.785074      1.404561    46.911783   \n",
       "std     293.149564     0.285896    25.100683      0.149598     5.682429   \n",
       "min       1.000000     4.090000    34.900000      1.022900     8.300000   \n",
       "25%     254.500000     5.690000    85.650000      1.306450    44.200000   \n",
       "50%     508.000000     5.790000   105.700000      1.388600    47.600000   \n",
       "75%     761.500000     5.920000   118.500000      1.476050    50.700000   \n",
       "max    1015.000000     6.810000   252.000000      2.430050    61.400000   \n",
       "\n",
       "                MC    Viability  \n",
       "count  1015.000000  1015.000000  \n",
       "mean     15.633153     0.498522  \n",
       "std       4.050141     0.500244  \n",
       "min       4.200000     0.000000  \n",
       "25%      12.550000     0.000000  \n",
       "50%      15.300000     0.000000  \n",
       "75%      18.500000     1.000000  \n",
       "max      29.300000     1.000000  "
      ]
     },
     "execution_count": 5,
     "metadata": {},
     "output_type": "execute_result"
    }
   ],
   "source": [
    "psb_data.describe()"
   ]
  },
  {
   "cell_type": "code",
   "execution_count": 6,
   "metadata": {},
   "outputs": [
    {
     "data": {
      "text/plain": [
       "<matplotlib.axes._subplots.AxesSubplot at 0x2141fa19a20>"
      ]
     },
     "execution_count": 6,
     "metadata": {},
     "output_type": "execute_result"
    },
    {
     "data": {
      "image/png": "[encoded data removed]",
      "text/plain": [
       "<Figure size 432x288 with 1 Axes>"
      ]
     },
     "metadata": {
      "needs_background": "light"
     },
     "output_type": "display_data"
    }
   ],
   "source": [
    "psb_data['pH'].plot.hist()"
   ]
  },
  {
   "cell_type": "code",
   "execution_count": 46,
   "metadata": {},
   "outputs": [
    {
     "data": {
      "text/plain": [
       "array([[<matplotlib.axes._subplots.AxesSubplot object at 0x0000021422E5A1D0>,\n",
       "        <matplotlib.axes._subplots.AxesSubplot object at 0x0000021423DD7588>],\n",
       "       [<matplotlib.axes._subplots.AxesSubplot object at 0x0000021423DB1C18>,\n",
       "        <matplotlib.axes._subplots.AxesSubplot object at 0x0000021423781240>],\n",
       "       [<matplotlib.axes._subplots.AxesSubplot object at 0x000002142107B5C0>,\n",
       "        <matplotlib.axes._subplots.AxesSubplot object at 0x00000214241E8748>]],\n",
       "      dtype=object)"
      ]
     },
     "execution_count": 46,
     "metadata": {},
     "output_type": "execute_result"
    },
    {
     "data": {
      "image/png": "[encoded data removed]",
      "text/plain": [
       "<Figure size 1440x720 with 6 Axes>"
      ]
     },
     "metadata": {
      "needs_background": "light"
     },
     "output_type": "display_data"
    }
   ],
   "source": [
    "psb_data.hist(bins=30, figsize=(20, 10))"
   ]
  },
  {
   "cell_type": "code",
   "execution_count": 7,
   "metadata": {},
   "outputs": [
    {
     "data": {
      "text/plain": [
       "<matplotlib.axes._subplots.AxesSubplot at 0x2141fb073c8>"
      ]
     },
     "execution_count": 7,
     "metadata": {},
     "output_type": "execute_result"
    },
    {
     "data": {
      "image/png": "[encoded data removed]",
      "text/plain": [
       "<Figure size 432x288 with 1 Axes>"
      ]
     },
     "metadata": {
      "needs_background": "light"
     },
     "output_type": "display_data"
    }
   ],
   "source": [
    "psb_data['MC'].plot.hist()"
   ]
  },
  {
   "cell_type": "markdown",
   "metadata": {},
   "source": [
    "### Data Cleaning (Wrangling) ###"
   ]
  },
  {
   "cell_type": "code",
   "execution_count": 8,
   "metadata": {},
   "outputs": [
    {
     "data": {
      "text/html": [
       "<div>\n",
       "<style scoped>\n",
       "    .dataframe tbody tr th:only-of-type {\n",
       "        vertical-align: middle;\n",
       "    }\n",
       "\n",
       "    .dataframe tbody tr th {\n",
       "        vertical-align: top;\n",
       "    }\n",
       "\n",
       "    .dataframe thead th {\n",
       "        text-align: right;\n",
       "    }\n",
       "</style>\n",
       "<table border=\"1\" class=\"dataframe\">\n",
       "  <thead>\n",
       "    <tr style=\"text-align: right;\">\n",
       "      <th></th>\n",
       "      <th>Label no</th>\n",
       "      <th>pH</th>\n",
       "      <th>EC</th>\n",
       "      <th>Bulk_Density</th>\n",
       "      <th>Porosity</th>\n",
       "      <th>MC</th>\n",
       "      <th>Viability</th>\n",
       "    </tr>\n",
       "  </thead>\n",
       "  <tbody>\n",
       "    <tr>\n",
       "      <th>0</th>\n",
       "      <td>False</td>\n",
       "      <td>False</td>\n",
       "      <td>False</td>\n",
       "      <td>False</td>\n",
       "      <td>False</td>\n",
       "      <td>False</td>\n",
       "      <td>False</td>\n",
       "    </tr>\n",
       "    <tr>\n",
       "      <th>1</th>\n",
       "      <td>False</td>\n",
       "      <td>False</td>\n",
       "      <td>False</td>\n",
       "      <td>False</td>\n",
       "      <td>False</td>\n",
       "      <td>False</td>\n",
       "      <td>False</td>\n",
       "    </tr>\n",
       "    <tr>\n",
       "      <th>2</th>\n",
       "      <td>False</td>\n",
       "      <td>False</td>\n",
       "      <td>False</td>\n",
       "      <td>False</td>\n",
       "      <td>False</td>\n",
       "      <td>False</td>\n",
       "      <td>False</td>\n",
       "    </tr>\n",
       "    <tr>\n",
       "      <th>3</th>\n",
       "      <td>False</td>\n",
       "      <td>False</td>\n",
       "      <td>False</td>\n",
       "      <td>False</td>\n",
       "      <td>False</td>\n",
       "      <td>False</td>\n",
       "      <td>False</td>\n",
       "    </tr>\n",
       "    <tr>\n",
       "      <th>4</th>\n",
       "      <td>False</td>\n",
       "      <td>False</td>\n",
       "      <td>False</td>\n",
       "      <td>False</td>\n",
       "      <td>False</td>\n",
       "      <td>False</td>\n",
       "      <td>False</td>\n",
       "    </tr>\n",
       "  </tbody>\n",
       "</table>\n",
       "</div>"
      ],
      "text/plain": [
       "   Label no     pH     EC  Bulk_Density  Porosity     MC  Viability\n",
       "0     False  False  False         False     False  False      False\n",
       "1     False  False  False         False     False  False      False\n",
       "2     False  False  False         False     False  False      False\n",
       "3     False  False  False         False     False  False      False\n",
       "4     False  False  False         False     False  False      False"
      ]
     },
     "execution_count": 8,
     "metadata": {},
     "output_type": "execute_result"
    }
   ],
   "source": [
    "psb_data.isnull().head(5)"
   ]
  },
  {
   "cell_type": "code",
   "execution_count": 9,
   "metadata": {},
   "outputs": [
    {
     "data": {
      "text/plain": [
       "Label no        0\n",
       "pH              0\n",
       "EC              0\n",
       "Bulk_Density    0\n",
       "Porosity        0\n",
       "MC              0\n",
       "Viability       0\n",
       "dtype: int64"
      ]
     },
     "execution_count": 9,
     "metadata": {},
     "output_type": "execute_result"
    }
   ],
   "source": [
    "psb_data.isnull().sum()"
   ]
  },
  {
   "cell_type": "markdown",
   "metadata": {},
   "source": [
    "### Find missing data ###"
   ]
  },
  {
   "cell_type": "markdown",
   "metadata": {},
   "source": [
    "#### Removing unwanted fields ####\n",
    "Balancing data - Phase I\n",
    "\n",
    "```\n",
    "Completely unique values \n",
    "Completely constant values\n",
    "```"
   ]
  },
  {
   "cell_type": "code",
   "execution_count": 10,
   "metadata": {},
   "outputs": [],
   "source": [
    "psb_data.drop('Label no', axis=1, inplace=True)"
   ]
  },
  {
   "cell_type": "code",
   "execution_count": 11,
   "metadata": {},
   "outputs": [
    {
     "data": {
      "text/plain": [
       "<matplotlib.axes._subplots.AxesSubplot at 0x2141fbb5a58>"
      ]
     },
     "execution_count": 11,
     "metadata": {},
     "output_type": "execute_result"
    },
    {
     "data": {
      "image/png": "[encoded data removed]",
      "text/plain": [
       "<Figure size 432x288 with 2 Axes>"
      ]
     },
     "metadata": {
      "needs_background": "light"
     },
     "output_type": "display_data"
    }
   ],
   "source": [
    "sns.heatmap(psb_data.isnull(), yticklabels=False, cmap='viridis')"
   ]
  },
  {
   "cell_type": "code",
   "execution_count": 12,
   "metadata": {},
   "outputs": [
    {
     "data": {
      "text/plain": [
       "<matplotlib.axes._subplots.AxesSubplot at 0x2141fc90390>"
      ]
     },
     "execution_count": 12,
     "metadata": {},
     "output_type": "execute_result"
    },
    {
     "data": {
      "image/png": "[encoded data removed]",
      "text/plain": [
       "<Figure size 432x288 with 1 Axes>"
      ]
     },
     "metadata": {
      "needs_background": "light"
     },
     "output_type": "display_data"
    }
   ],
   "source": [
    "sns.boxplot(data=psb_data,linewidth=1)"
   ]
  },
  {
   "cell_type": "markdown",
   "metadata": {},
   "source": [
    "From the plot, we can see that there are few outliers present in column EC and Porosity"
   ]
  },
  {
   "cell_type": "code",
   "execution_count": 13,
   "metadata": {},
   "outputs": [
    {
     "name": "stdout",
     "output_type": "stream",
     "text": [
      "<class 'pandas.core.frame.DataFrame'>\n",
      "RangeIndex: 1015 entries, 0 to 1014\n",
      "Data columns (total 6 columns):\n",
      " #   Column        Non-Null Count  Dtype  \n",
      "---  ------        --------------  -----  \n",
      " 0   pH            1015 non-null   float64\n",
      " 1   EC            1015 non-null   float64\n",
      " 2   Bulk_Density  1015 non-null   float64\n",
      " 3   Porosity      1015 non-null   float64\n",
      " 4   MC            1015 non-null   float64\n",
      " 5   Viability     1015 non-null   int64  \n",
      "dtypes: float64(5), int64(1)\n",
      "memory usage: 47.7 KB\n"
     ]
    }
   ],
   "source": [
    "psb_data.info()"
   ]
  },
  {
   "cell_type": "code",
   "execution_count": 14,
   "metadata": {},
   "outputs": [
    {
     "name": "stdout",
     "output_type": "stream",
     "text": [
      "<class 'pandas.core.frame.DataFrame'>\n",
      "RangeIndex: 1015 entries, 0 to 1014\n",
      "Data columns (total 6 columns):\n",
      " #   Column        Non-Null Count  Dtype  \n",
      "---  ------        --------------  -----  \n",
      " 0   pH            1015 non-null   float64\n",
      " 1   EC            1015 non-null   float64\n",
      " 2   Bulk_Density  1015 non-null   float64\n",
      " 3   Porosity      1015 non-null   float64\n",
      " 4   MC            1015 non-null   float64\n",
      " 5   Viability     1015 non-null   int64  \n",
      "dtypes: float64(5), int64(1)\n",
      "memory usage: 47.7 KB\n"
     ]
    }
   ],
   "source": [
    "psb_data.info()"
   ]
  },
  {
   "cell_type": "markdown",
   "metadata": {},
   "source": [
    "### Training Models ###"
   ]
  },
  {
   "cell_type": "markdown",
   "metadata": {},
   "source": [
    "#### Prepare Data ####"
   ]
  },
  {
   "cell_type": "markdown",
   "metadata": {},
   "source": [
    "#### Check the balance of data"
   ]
  },
  {
   "cell_type": "code",
   "execution_count": 15,
   "metadata": {},
   "outputs": [
    {
     "data": {
      "text/plain": [
       "0    509\n",
       "1    506\n",
       "Name: Viability, dtype: int64"
      ]
     },
     "execution_count": 15,
     "metadata": {},
     "output_type": "execute_result"
    }
   ],
   "source": [
    "psb_data['Viability'].value_counts()"
   ]
  },
  {
   "cell_type": "code",
   "execution_count": 17,
   "metadata": {},
   "outputs": [
    {
     "data": {
      "text/plain": [
       "<matplotlib.axes._subplots.AxesSubplot at 0x225d27e2828>"
      ]
     },
     "execution_count": 17,
     "metadata": {},
     "output_type": "execute_result"
    },
    {
     "data": {
      "image/png": "[encoded data removed]",
      "text/plain": [
       "<Figure size 432x288 with 1 Axes>"
      ]
     },
     "metadata": {
      "needs_background": "light"
     },
     "output_type": "display_data"
    }
   ],
   "source": [
    "sns.barplot(x=psb_data.Viability.value_counts().index, y=psb_data.Viability.value_counts())"
   ]
  },
  {
   "cell_type": "code",
   "execution_count": 18,
   "metadata": {},
   "outputs": [],
   "source": [
    "X = psb_data.drop(['Viability', 'Label no'], axis=1) #indep. features\n",
    "y = psb_data['Viability'] #dep. feature"
   ]
  },
  {
   "cell_type": "code",
   "execution_count": 19,
   "metadata": {},
   "outputs": [
    {
     "data": {
      "text/html": [
       "<div>\n",
       "<style scoped>\n",
       "    .dataframe tbody tr th:only-of-type {\n",
       "        vertical-align: middle;\n",
       "    }\n",
       "\n",
       "    .dataframe tbody tr th {\n",
       "        vertical-align: top;\n",
       "    }\n",
       "\n",
       "    .dataframe thead th {\n",
       "        text-align: right;\n",
       "    }\n",
       "</style>\n",
       "<table border=\"1\" class=\"dataframe\">\n",
       "  <thead>\n",
       "    <tr style=\"text-align: right;\">\n",
       "      <th></th>\n",
       "      <th>pH</th>\n",
       "      <th>EC</th>\n",
       "      <th>Bulk_Density</th>\n",
       "      <th>Porosity</th>\n",
       "      <th>MC</th>\n",
       "    </tr>\n",
       "  </thead>\n",
       "  <tbody>\n",
       "    <tr>\n",
       "      <th>0</th>\n",
       "      <td>5.72</td>\n",
       "      <td>108.3</td>\n",
       "      <td>1.25345</td>\n",
       "      <td>52.7</td>\n",
       "      <td>21.7</td>\n",
       "    </tr>\n",
       "    <tr>\n",
       "      <th>1</th>\n",
       "      <td>5.82</td>\n",
       "      <td>105.8</td>\n",
       "      <td>1.52110</td>\n",
       "      <td>42.6</td>\n",
       "      <td>10.8</td>\n",
       "    </tr>\n",
       "    <tr>\n",
       "      <th>2</th>\n",
       "      <td>6.73</td>\n",
       "      <td>123.3</td>\n",
       "      <td>1.44160</td>\n",
       "      <td>45.6</td>\n",
       "      <td>23.5</td>\n",
       "    </tr>\n",
       "    <tr>\n",
       "      <th>3</th>\n",
       "      <td>5.69</td>\n",
       "      <td>129.2</td>\n",
       "      <td>1.31705</td>\n",
       "      <td>50.3</td>\n",
       "      <td>15.3</td>\n",
       "    </tr>\n",
       "    <tr>\n",
       "      <th>4</th>\n",
       "      <td>5.68</td>\n",
       "      <td>99.1</td>\n",
       "      <td>1.27730</td>\n",
       "      <td>51.8</td>\n",
       "      <td>12.3</td>\n",
       "    </tr>\n",
       "    <tr>\n",
       "      <th>...</th>\n",
       "      <td>...</td>\n",
       "      <td>...</td>\n",
       "      <td>...</td>\n",
       "      <td>...</td>\n",
       "      <td>...</td>\n",
       "    </tr>\n",
       "    <tr>\n",
       "      <th>1010</th>\n",
       "      <td>6.27</td>\n",
       "      <td>75.2</td>\n",
       "      <td>1.47870</td>\n",
       "      <td>44.2</td>\n",
       "      <td>14.8</td>\n",
       "    </tr>\n",
       "    <tr>\n",
       "      <th>1011</th>\n",
       "      <td>6.05</td>\n",
       "      <td>111.8</td>\n",
       "      <td>1.25875</td>\n",
       "      <td>52.5</td>\n",
       "      <td>19.3</td>\n",
       "    </tr>\n",
       "    <tr>\n",
       "      <th>1012</th>\n",
       "      <td>6.28</td>\n",
       "      <td>114.8</td>\n",
       "      <td>1.27730</td>\n",
       "      <td>51.8</td>\n",
       "      <td>14.7</td>\n",
       "    </tr>\n",
       "    <tr>\n",
       "      <th>1013</th>\n",
       "      <td>6.32</td>\n",
       "      <td>58.8</td>\n",
       "      <td>1.52375</td>\n",
       "      <td>42.5</td>\n",
       "      <td>13.5</td>\n",
       "    </tr>\n",
       "    <tr>\n",
       "      <th>1014</th>\n",
       "      <td>6.19</td>\n",
       "      <td>150.4</td>\n",
       "      <td>1.49460</td>\n",
       "      <td>43.6</td>\n",
       "      <td>12.5</td>\n",
       "    </tr>\n",
       "  </tbody>\n",
       "</table>\n",
       "<p>1015 rows × 5 columns</p>\n",
       "</div>"
      ],
      "text/plain": [
       "        pH     EC  Bulk_Density  Porosity    MC\n",
       "0     5.72  108.3       1.25345      52.7  21.7\n",
       "1     5.82  105.8       1.52110      42.6  10.8\n",
       "2     6.73  123.3       1.44160      45.6  23.5\n",
       "3     5.69  129.2       1.31705      50.3  15.3\n",
       "4     5.68   99.1       1.27730      51.8  12.3\n",
       "...    ...    ...           ...       ...   ...\n",
       "1010  6.27   75.2       1.47870      44.2  14.8\n",
       "1011  6.05  111.8       1.25875      52.5  19.3\n",
       "1012  6.28  114.8       1.27730      51.8  14.7\n",
       "1013  6.32   58.8       1.52375      42.5  13.5\n",
       "1014  6.19  150.4       1.49460      43.6  12.5\n",
       "\n",
       "[1015 rows x 5 columns]"
      ]
     },
     "execution_count": 19,
     "metadata": {},
     "output_type": "execute_result"
    }
   ],
   "source": [
    "X"
   ]
  },
  {
   "cell_type": "code",
   "execution_count": 20,
   "metadata": {},
   "outputs": [],
   "source": [
    "from sklearn.model_selection import train_test_split\n",
    "X_train, X_test, y_train, y_test = train_test_split(X, y, test_size=0.3, random_state=17)"
   ]
  },
  {
   "cell_type": "code",
   "execution_count": 20,
   "metadata": {},
   "outputs": [
    {
     "data": {
      "text/plain": [
       "<matplotlib.axes._subplots.AxesSubplot at 0x2141ff718d0>"
      ]
     },
     "execution_count": 20,
     "metadata": {},
     "output_type": "execute_result"
    },
    {
     "data": {
      "image/png": "[encoded data removed]",
      "text/plain": [
       "<Figure size 432x288 with 1 Axes>"
      ]
     },
     "metadata": {
      "needs_background": "light"
     },
     "output_type": "display_data"
    }
   ],
   "source": [
    "sns.distplot(X_train['MC'])"
   ]
  },
  {
   "cell_type": "code",
   "execution_count": 20,
   "metadata": {},
   "outputs": [],
   "source": [
    "from sklearn.linear_model import LogisticRegression\n",
    "from sklearn.neighbors import KNeighborsClassifier\n",
    "from sklearn.naive_bayes import GaussianNB\n",
    "from sklearn.model_selection import GridSearchCV\n",
    "from sklearn.model_selection import KFold"
   ]
  },
  {
   "cell_type": "markdown",
   "metadata": {},
   "source": [
    "### Logistic Regression"
   ]
  },
  {
   "cell_type": "code",
   "execution_count": 21,
   "metadata": {},
   "outputs": [
    {
     "name": "stdout",
     "output_type": "stream",
     "text": [
      "LogisticRegression(max_iter=1000)\n",
      "[[118  39]\n",
      " [ 26 122]]\n",
      "0.7868852459016393\n",
      "              precision    recall  f1-score   support\n",
      "\n",
      "           0       0.82      0.75      0.78       157\n",
      "           1       0.76      0.82      0.79       148\n",
      "\n",
      "    accuracy                           0.79       305\n",
      "   macro avg       0.79      0.79      0.79       305\n",
      "weighted avg       0.79      0.79      0.79       305\n",
      "\n"
     ]
    }
   ],
   "source": [
    "import sklearn.metrics as metrics\n",
    "\n",
    "lr_classifier = LogisticRegression(max_iter=1000)\n",
    "desc = lr_classifier.fit(X_train, y_train)\n",
    "print(desc)\n",
    "y_pred = lr_classifier.predict(X_test)\n",
    "print(metrics.confusion_matrix(y_test, y_pred))\n",
    "print(metrics.accuracy_score(y_test, y_pred))\n",
    "print(metrics.classification_report(y_test, y_pred))"
   ]
  },
  {
   "cell_type": "code",
   "execution_count": 21,
   "metadata": {},
   "outputs": [],
   "source": [
    "import sklearn.metrics as metrics\n",
    "\n",
    "def print_model_performance(model, X_test, y_test):\n",
    "    y_pred = model.predict(X_test)\n",
    "    print('Accuracy score:\\n', metrics.accuracy_score(y_test, y_pred))\n",
    "    print('Confusion matrix:\\n', metrics.confusion_matrix(y_test, y_pred))\n",
    "    print('Classification report:\\n', metrics.classification_report(y_test, y_pred, digits=4))\n",
    "    print('Precision:\\n',metrics.precision_score(y_test, y_pred))\n",
    "    print('Recall:\\n',metrics.recall_score(y_test, y_pred))"
   ]
  },
  {
   "cell_type": "markdown",
   "metadata": {},
   "source": [
    "### Use of trained model for new data prediction"
   ]
  },
  {
   "cell_type": "code",
   "execution_count": 67,
   "metadata": {},
   "outputs": [
    {
     "name": "stdout",
     "output_type": "stream",
     "text": [
      "[0]\n",
      "[[0.61149808 0.38850192]]\n"
     ]
    }
   ],
   "source": [
    "new_data = np.array([[5.0,110.0,1.00,45.4,15]])\n",
    "\n",
    "print(lr_classifier.predict(new_data))\n",
    "print(lr_classifier.predict_proba(new_data))"
   ]
  },
  {
   "cell_type": "markdown",
   "metadata": {},
   "source": [
    "### Save model for future use (use of pickle and joblib modules)"
   ]
  },
  {
   "cell_type": "code",
   "execution_count": 68,
   "metadata": {},
   "outputs": [
    {
     "data": {
      "text/plain": [
       "['psb_lr_model.jblb']"
      ]
     },
     "execution_count": 68,
     "metadata": {},
     "output_type": "execute_result"
    }
   ],
   "source": [
    "#!pip install pickle-mixin\n",
    "#!pip install joblib\n",
    "\n",
    "import pickle\n",
    "import joblib\n",
    "\n",
    "filename_pkl = 'psb_lr_model.pkl'\n",
    "saved_model = pickle.dump(lr_classifier, open(filename_pkl, 'wb'))\n",
    "\n",
    "filename_jblb = 'psb_lr_model.jblb'\n",
    "joblib.dump(lr_classifier, filename_jblb)"
   ]
  },
  {
   "cell_type": "markdown",
   "metadata": {},
   "source": [
    "### Load a saved model"
   ]
  },
  {
   "cell_type": "code",
   "execution_count": 26,
   "metadata": {},
   "outputs": [
    {
     "name": "stdout",
     "output_type": "stream",
     "text": [
      "\n",
      "--- Pickle ---- \n",
      "Accuracy score:\n",
      " 0.780327868852459\n",
      "Confusion matrix:\n",
      " [[120  37]\n",
      " [ 30 118]]\n",
      "Classification report:\n",
      "               precision    recall  f1-score   support\n",
      "\n",
      "           0     0.8000    0.7643    0.7818       157\n",
      "           1     0.7613    0.7973    0.7789       148\n",
      "\n",
      "    accuracy                         0.7803       305\n",
      "   macro avg     0.7806    0.7808    0.7803       305\n",
      "weighted avg     0.7812    0.7803    0.7804       305\n",
      "\n",
      "Precision:\n",
      " 0.7612903225806451\n",
      "Recall:\n",
      " 0.7972972972972973\n",
      "\n",
      "--- Joblib ---- \n",
      "Accuracy score:\n",
      " 0.780327868852459\n",
      "Confusion matrix:\n",
      " [[120  37]\n",
      " [ 30 118]]\n",
      "Classification report:\n",
      "               precision    recall  f1-score   support\n",
      "\n",
      "           0     0.8000    0.7643    0.7818       157\n",
      "           1     0.7613    0.7973    0.7789       148\n",
      "\n",
      "    accuracy                         0.7803       305\n",
      "   macro avg     0.7806    0.7808    0.7803       305\n",
      "weighted avg     0.7812    0.7803    0.7804       305\n",
      "\n",
      "Precision:\n",
      " 0.7612903225806451\n",
      "Recall:\n",
      " 0.7972972972972973\n"
     ]
    }
   ],
   "source": [
    "#Pickle\n",
    "print('\\n--- Pickle ---- ')\n",
    "loaded_model = pickle.load(open(filename_pkl, 'rb'))\n",
    "print_model_performance(loaded_model, X_test, y_test)\n",
    "\n",
    "#Joblib\n",
    "print('\\n--- Joblib ---- ')\n",
    "loaded_model = joblib.load(filename_jblb)\n",
    "print_model_performance(loaded_model, X_test, y_test)"
   ]
  },
  {
   "cell_type": "markdown",
   "metadata": {},
   "source": [
    "#### Hyperparameter tuning for Logistic Regression (Solver, C and Penalty)"
   ]
  },
  {
   "cell_type": "code",
   "execution_count": 13,
   "metadata": {},
   "outputs": [
    {
     "name": "stdout",
     "output_type": "stream",
     "text": [
      "GridSearchCV(cv=KFold(n_splits=5, random_state=None, shuffle=False),\n",
      "             estimator=LogisticRegression(), n_jobs=-1,\n",
      "             param_grid={'C': array([1.e-02, 1.e-01, 1.e+00, 1.e+01, 1.e+02]),\n",
      "                         'penalty': ['l2'], 'solver': ['lbfgs']},\n",
      "             scoring='f1_macro')\n",
      "Accuracy score:\n",
      " 0.7770491803278688\n",
      "Confusion matrix:\n",
      " [[120  37]\n",
      " [ 31 117]]\n",
      "Classification report:\n",
      "               precision    recall  f1-score   support\n",
      "\n",
      "           0     0.7947    0.7643    0.7792       157\n",
      "           1     0.7597    0.7905    0.7748       148\n",
      "\n",
      "    accuracy                         0.7770       305\n",
      "   macro avg     0.7772    0.7774    0.7770       305\n",
      "weighted avg     0.7777    0.7770    0.7771       305\n",
      "\n",
      "Precision:\n",
      " 0.7597402597402597\n",
      "Recall:\n",
      " 0.7905405405405406\n",
      "\n",
      " The best parameters across ALL searched params:\n",
      " {'C': 100.0, 'penalty': 'l2', 'solver': 'lbfgs'}\n"
     ]
    }
   ],
   "source": [
    "lr_classifier = LogisticRegression()\n",
    "lr_C = np.array([0.01, 0.1, 1, 10, 100])\n",
    "lr_penalty = ['l2']  #'l1', 'elasticnet'\n",
    "lr_solver = ['lbfgs'] #'liblinear', 'sag'\n",
    "\n",
    "grid_values = {'C': lr_C, 'penalty': lr_penalty, 'solver': lr_solver}\n",
    "cross_validation = KFold(n_splits=5, shuffle=False)\n",
    "lrc_grid = GridSearchCV(lr_classifier, param_grid=grid_values, \n",
    "                        cv=cross_validation, n_jobs=-1, scoring='f1_macro')\n",
    "\n",
    "desc = lrc_grid.fit(X_train, y_train)\n",
    "print(desc)\n",
    "print_model_performance(lrc_grid, X_test, y_test)\n",
    "\n",
    "print(\"\\n The best parameters across ALL searched params:\\n\",lrc_grid.best_params_)"
   ]
  },
  {
   "cell_type": "markdown",
   "metadata": {},
   "source": [
    "### Naive Bayes classifier"
   ]
  },
  {
   "cell_type": "code",
   "execution_count": 22,
   "metadata": {},
   "outputs": [
    {
     "name": "stdout",
     "output_type": "stream",
     "text": [
      "GaussianNB()\n",
      "Accuracy score:\n",
      " 0.8655737704918033\n",
      "Confusion matrix:\n",
      " [[132  25]\n",
      " [ 16 132]]\n",
      "Classification report:\n",
      "               precision    recall  f1-score   support\n",
      "\n",
      "           0     0.8919    0.8408    0.8656       157\n",
      "           1     0.8408    0.8919    0.8656       148\n",
      "\n",
      "    accuracy                         0.8656       305\n",
      "   macro avg     0.8663    0.8663    0.8656       305\n",
      "weighted avg     0.8671    0.8656    0.8656       305\n",
      "\n",
      "Precision:\n",
      " 0.8407643312101911\n",
      "Recall:\n",
      " 0.8918918918918919\n"
     ]
    }
   ],
   "source": [
    "nb_classifier = GaussianNB() \n",
    "nb_classifier.fit(X_train, y_train)  #model train\n",
    "\n",
    "desc = nb_classifier.fit(X_train, y_train)  #model train and assign to a new variable\n",
    "print(desc)\n",
    "print_model_performance(nb_classifier, X_test, y_test)  #function created before"
   ]
  },
  {
   "cell_type": "markdown",
   "metadata": {},
   "source": [
    "### K-Nearest Neighbors (KNN)"
   ]
  },
  {
   "cell_type": "code",
   "execution_count": 23,
   "metadata": {},
   "outputs": [
    {
     "name": "stdout",
     "output_type": "stream",
     "text": [
      "KNeighborsClassifier(n_neighbors=4)\n",
      "Accuracy score:\n",
      " 0.8786885245901639\n",
      "Confusion matrix:\n",
      " [[134  23]\n",
      " [ 14 134]]\n",
      "Classification report:\n",
      "               precision    recall  f1-score   support\n",
      "\n",
      "           0     0.9054    0.8535    0.8787       157\n",
      "           1     0.8535    0.9054    0.8787       148\n",
      "\n",
      "    accuracy                         0.8787       305\n",
      "   macro avg     0.8795    0.8795    0.8787       305\n",
      "weighted avg     0.8802    0.8787    0.8787       305\n",
      "\n",
      "Precision:\n",
      " 0.8535031847133758\n",
      "Recall:\n",
      " 0.9054054054054054\n"
     ]
    }
   ],
   "source": [
    "knn_classifier = KNeighborsClassifier(n_neighbors=4)\n",
    "knn_classifier.fit(X_train, y_train)\n",
    "\n",
    "desc = knn_classifier.fit(X_train, y_train)\n",
    "print(desc)\n",
    "print_model_performance(knn_classifier, X_test, y_test)"
   ]
  },
  {
   "cell_type": "markdown",
   "metadata": {},
   "source": [
    "### Suppot Vector Machine (SVM)"
   ]
  },
  {
   "cell_type": "code",
   "execution_count": 24,
   "metadata": {},
   "outputs": [
    {
     "name": "stdout",
     "output_type": "stream",
     "text": [
      "KNeighborsClassifier(n_neighbors=4)\n",
      "Accuracy score:\n",
      " 0.780327868852459\n",
      "Confusion matrix:\n",
      " [[105  52]\n",
      " [ 15 133]]\n",
      "Classification report:\n",
      "               precision    recall  f1-score   support\n",
      "\n",
      "           0     0.8750    0.6688    0.7581       157\n",
      "           1     0.7189    0.8986    0.7988       148\n",
      "\n",
      "    accuracy                         0.7803       305\n",
      "   macro avg     0.7970    0.7837    0.7785       305\n",
      "weighted avg     0.7993    0.7803    0.7779       305\n",
      "\n",
      "Precision:\n",
      " 0.7189189189189189\n",
      "Recall:\n",
      " 0.8986486486486487\n"
     ]
    }
   ],
   "source": [
    "from sklearn import svm\n",
    "svm_classifier = svm.SVC() #default kernal is Radial Basis Function (RBF) kernel.\n",
    "\n",
    "svm_classifier.fit(X_train, y_train)\n",
    "print_model_performance(svm_classifier, X_test, y_test)"
   ]
  },
  {
   "cell_type": "code",
   "execution_count": 25,
   "metadata": {},
   "outputs": [
    {
     "name": "stdout",
     "output_type": "stream",
     "text": [
      "C=1    kernal=rbf        accuracy score= 78.033%\n",
      "C=1    kernal=linear     accuracy score= 79.344%\n",
      "C=1    kernal=poly       accuracy score= 67.541%\n",
      "C=10   kernal=rbf        accuracy score= 79.672%\n",
      "C=10   kernal=linear     accuracy score= 79.016%\n",
      "C=10   kernal=poly       accuracy score= 68.525%\n",
      "C=100  kernal=rbf        accuracy score= 81.311%\n",
      "C=100  kernal=linear     accuracy score= 79.672%\n",
      "C=100  kernal=poly       accuracy score= 73.770%\n",
      "C=1000 kernal=rbf        accuracy score= 87.213%\n",
      "C=1000 kernal=linear     accuracy score= 77.705%\n",
      "C=1000 kernal=poly       accuracy score= 82.295%\n",
      "C=10000 kernal=rbf        accuracy score= 90.492%\n",
      "C=10000 kernal=linear     accuracy score= 77.049%\n",
      "C=10000 kernal=poly       accuracy score= 87.869%\n"
     ]
    }
   ],
   "source": [
    "import sklearn.metrics as metrics\n",
    "\n",
    "for C in [1, 10, 100, 1000, 10000]:\n",
    "    for kernal in ['rbf', 'linear', 'poly']:\n",
    "        svm_classifier = svm.SVC(C=C, kernel=kernal) #similarly, gamma=0.01, 0.5, \n",
    "        svm_classifier.fit(X_train, y_train)\n",
    "        y_pred = svm_classifier.predict(X_test)\n",
    "        scores = metrics.accuracy_score(y_test, y_pred)\n",
    "        print(f'C={C:<10} kernal={kernal:<10} accuracy score={scores: .2%}')"
   ]
  },
  {
   "cell_type": "code",
   "execution_count": 30,
   "metadata": {},
   "outputs": [
    {
     "data": {
      "text/plain": [
       "<matplotlib.axes._subplots.AxesSubplot at 0x214201491d0>"
      ]
     },
     "execution_count": 30,
     "metadata": {},
     "output_type": "execute_result"
    },
    {
     "data": {
      "image/png": "[encoded data removed]",
      "text/plain": [
       "<Figure size 432x288 with 2 Axes>"
      ]
     },
     "metadata": {
      "needs_background": "light"
     },
     "output_type": "display_data"
    }
   ],
   "source": [
    "sns.heatmap(metrics.confusion_matrix(y_test, y_pred), annot=True, cmap='nipy_spectral_r')"
   ]
  },
  {
   "cell_type": "code",
   "execution_count": 31,
   "metadata": {},
   "outputs": [
    {
     "data": {
      "text/plain": [
       "<matplotlib.axes._subplots.AxesSubplot at 0x21420949c18>"
      ]
     },
     "execution_count": 31,
     "metadata": {},
     "output_type": "execute_result"
    },
    {
     "data": {
      "image/png": "[encoded data removed]",
      "text/plain": [
       "<Figure size 432x288 with 2 Axes>"
      ]
     },
     "metadata": {
      "needs_background": "light"
     },
     "output_type": "display_data"
    }
   ],
   "source": [
    "sns.heatmap(metrics.confusion_matrix(y_test, y_pred), annot=True, fmt='d', cmap='YlGnBu')  #cmap = Blues"
   ]
  },
  {
   "cell_type": "markdown",
   "metadata": {},
   "source": [
    "### Receiver Operating Characteristic Curve (ROC Curve) \n",
    "\n",
    "#### Area Under the Curve: AUC - ROC \n",
    "AUC - ROC curve is a performance measurement for the classification problems at various threshold settings.\n",
    "ROC is a probability curve and AUC represents the degree or measure of separability.\n",
    "Higher the AUC, the better the model is at predicting 0 classes as 0 and 1 classes as 1"
   ]
  },
  {
   "cell_type": "code",
   "execution_count": 32,
   "metadata": {},
   "outputs": [
    {
     "data": {
      "image/png": "[encoded data removed]",
      "text/plain": [
       "<Figure size 432x288 with 1 Axes>"
      ]
     },
     "metadata": {
      "needs_background": "light"
     },
     "output_type": "display_data"
    }
   ],
   "source": [
    "from sklearn.metrics import roc_curve\n",
    "\n",
    "pred_prob = knn_classifier.predict_proba(X_test)\n",
    "fpr, tpr, thresh = roc_curve(y_test, pred_prob[:,1], pos_label=1)\n",
    "\n",
    "plt.plot(fpr, tpr, linestyle='--',color='orange', label='KNN')\n",
    "\n",
    "# title\n",
    "plt.title('ROC Curve')\n",
    "# x label\n",
    "plt.xlabel('False Positive Rate')\n",
    "# y label\n",
    "plt.ylabel('True Positive Rate')\n",
    "\n",
    "plt.legend(loc='best')\n",
    "plt.savefig('ROC',dpi=300)\n",
    "plt.show();"
   ]
  },
  {
   "cell_type": "markdown",
   "metadata": {},
   "source": [
    "### Decision Tree Classifier"
   ]
  },
  {
   "cell_type": "code",
   "execution_count": 26,
   "metadata": {},
   "outputs": [
    {
     "name": "stdout",
     "output_type": "stream",
     "text": [
      "DecisionTreeClassifier(criterion='entropy', max_depth=7, random_state=17)\n",
      "Accuracy score:\n",
      " 0.9639344262295082\n",
      "Confusion matrix:\n",
      " [[151   6]\n",
      " [  5 143]]\n",
      "Classification report:\n",
      "               precision    recall  f1-score   support\n",
      "\n",
      "           0     0.9679    0.9618    0.9649       157\n",
      "           1     0.9597    0.9662    0.9630       148\n",
      "\n",
      "    accuracy                         0.9639       305\n",
      "   macro avg     0.9638    0.9640    0.9639       305\n",
      "weighted avg     0.9640    0.9639    0.9639       305\n",
      "\n",
      "Precision:\n",
      " 0.959731543624161\n",
      "Recall:\n",
      " 0.9662162162162162\n"
     ]
    }
   ],
   "source": [
    "from sklearn.tree import DecisionTreeClassifier\n",
    "\n",
    "dt_classifier = DecisionTreeClassifier(criterion=\"entropy\", max_depth=7, random_state=17)   \n",
    "dt_classifier.fit(X_train,y_train)\n",
    "\n",
    "print(dt_classifier)\n",
    "print_model_performance(dt_classifier, X_test, y_test)"
   ]
  },
  {
   "cell_type": "code",
   "execution_count": 28,
   "metadata": {},
   "outputs": [
    {
     "name": "stdout",
     "output_type": "stream",
     "text": [
      "k=1    criterion=gini       accuracy score= 81.639%\n",
      "k=1    criterion=entropy    accuracy score= 81.639%\n",
      "k=2    criterion=gini       accuracy score= 91.148%\n",
      "k=2    criterion=entropy    accuracy score= 91.475%\n",
      "k=3    criterion=gini       accuracy score= 96.721%\n",
      "k=3    criterion=entropy    accuracy score= 96.721%\n",
      "k=4    criterion=gini       accuracy score= 97.705%\n",
      "k=4    criterion=entropy    accuracy score= 97.377%\n",
      "k=5    criterion=gini       accuracy score= 97.705%\n",
      "k=5    criterion=entropy    accuracy score= 97.705%\n",
      "k=6    criterion=gini       accuracy score= 97.049%\n",
      "k=6    criterion=entropy    accuracy score= 96.721%\n",
      "k=7    criterion=gini       accuracy score= 96.721%\n",
      "k=7    criterion=entropy    accuracy score= 96.393%\n",
      "k=8    criterion=gini       accuracy score= 97.049%\n",
      "k=8    criterion=entropy    accuracy score= 96.393%\n",
      "k=9    criterion=gini       accuracy score= 97.049%\n",
      "k=9    criterion=entropy    accuracy score= 96.393%\n",
      "k=10   criterion=gini       accuracy score= 97.049%\n",
      "k=10   criterion=entropy    accuracy score= 96.393%\n"
     ]
    }
   ],
   "source": [
    "#Hyperparameter training with iterations\n",
    "import sklearn.metrics as metrics\n",
    "\n",
    "for md in range(1, 11, 1):\n",
    "    for crt in ['gini', 'entropy']:\n",
    "        dt_classifier = DecisionTreeClassifier(criterion=crt, max_depth=md, random_state=17)   \n",
    "        dt_classifier.fit(X_train,y_train)\n",
    "        y_pred = dt_classifier.predict(X_test)\n",
    "        scores = metrics.accuracy_score(y_test, y_pred)\n",
    "        print(f'k={md:<4} criterion={crt:<10} accuracy score={scores: .2%}')"
   ]
  },
  {
   "cell_type": "code",
   "execution_count": 34,
   "metadata": {},
   "outputs": [
    {
     "name": "stdout",
     "output_type": "stream",
     "text": [
      "|--- EC <= 94.70\n",
      "|   |--- EC <= 42.00\n",
      "|   |   |--- class: 1\n",
      "|   |--- EC >  42.00\n",
      "|   |   |--- Bulk_Density <= 1.45\n",
      "|   |   |   |--- class: 0\n",
      "|   |   |--- Bulk_Density >  1.45\n",
      "|   |   |   |--- class: 0\n",
      "|--- EC >  94.70\n",
      "|   |--- Bulk_Density <= 1.48\n",
      "|   |   |--- EC <= 140.65\n",
      "|   |   |   |--- class: 1\n",
      "|   |   |--- EC >  140.65\n",
      "|   |   |   |--- class: 0\n",
      "|   |--- Bulk_Density >  1.48\n",
      "|   |   |--- EC <= 135.05\n",
      "|   |   |   |--- class: 0\n",
      "|   |   |--- EC >  135.05\n",
      "|   |   |   |--- class: 0\n",
      "\n"
     ]
    }
   ],
   "source": [
    "from sklearn.tree import export_text\n",
    "\n",
    "r = export_text(dt_classifier, feature_names=list(X.columns))\n",
    "print(r)"
   ]
  },
  {
   "cell_type": "code",
   "execution_count": null,
   "metadata": {},
   "outputs": [],
   "source": [
    "#Export the Decision Tree to an image.\n",
    "#Compare ID3 DT classifier with C4.5 classifier."
   ]
  },
  {
   "cell_type": "markdown",
   "metadata": {},
   "source": [
    "## Ensemble Techniques\n",
    "1) Use of multiple learning algorithms together for the same task\n",
    "\n",
    "2) Better predictions than individual learning models\n",
    "\n",
    "#### Features\n",
    "1) Better accuracy (low error)\n",
    "2) Higher consistency (avoid overfitting, specially when decision trees overfitting)\n",
    "3) Reduces bias and varience errors\n",
    "\n",
    "#### There are two ensemble techniques\n",
    "1) Bagging\n",
    "\n",
    "2) Boosting\n",
    "\n",
    "### Bagging (Bootstrap Aggregation)\n",
    "### Random Forest Classifier\n",
    "\n",
    "In Ensemble Learning, instead of using a single predictor, multiple predictors and training in the data and their results are aggregated, usually giving a better score than using a single model. A Random Forest, for instance, is simply an ensemble of bagged(or pasted) Decision Trees."
   ]
  },
  {
   "cell_type": "code",
   "execution_count": 29,
   "metadata": {},
   "outputs": [
    {
     "name": "stdout",
     "output_type": "stream",
     "text": [
      "Accuracy score:\n",
      " 0.9770491803278688\n",
      "Confusion matrix:\n",
      " [[155   2]\n",
      " [  5 143]]\n",
      "Classification report:\n",
      "               precision    recall  f1-score   support\n",
      "\n",
      "           0     0.9688    0.9873    0.9779       157\n",
      "           1     0.9862    0.9662    0.9761       148\n",
      "\n",
      "    accuracy                         0.9770       305\n",
      "   macro avg     0.9775    0.9767    0.9770       305\n",
      "weighted avg     0.9772    0.9770    0.9770       305\n",
      "\n",
      "Precision:\n",
      " 0.9862068965517241\n",
      "Recall:\n",
      " 0.9662162162162162\n"
     ]
    }
   ],
   "source": [
    "from sklearn.ensemble import RandomForestClassifier\n",
    "rf_classifier = RandomForestClassifier()\n",
    "rf_classifier.fit(X_train, y_train)\n",
    "print_model_performance(rf_classifier, X_test, y_test)"
   ]
  },
  {
   "cell_type": "code",
   "execution_count": 78,
   "metadata": {},
   "outputs": [
    {
     "name": "stdout",
     "output_type": "stream",
     "text": [
      "k=1    criterion=gini       accuracy score= 91.475%\n",
      "k=1    criterion=entropy    accuracy score= 91.475%\n",
      "k=2    criterion=gini       accuracy score= 91.475%\n",
      "k=2    criterion=entropy    accuracy score= 91.148%\n",
      "k=3    criterion=gini       accuracy score= 91.148%\n",
      "k=3    criterion=entropy    accuracy score= 91.475%\n",
      "k=4    criterion=gini       accuracy score= 97.049%\n",
      "k=4    criterion=entropy    accuracy score= 94.426%\n",
      "k=5    criterion=gini       accuracy score= 97.049%\n",
      "k=5    criterion=entropy    accuracy score= 96.393%\n",
      "k=6    criterion=gini       accuracy score= 97.049%\n",
      "k=6    criterion=entropy    accuracy score= 97.377%\n",
      "k=7    criterion=gini       accuracy score= 97.049%\n",
      "k=7    criterion=entropy    accuracy score= 97.049%\n",
      "k=8    criterion=gini       accuracy score= 96.721%\n",
      "k=8    criterion=entropy    accuracy score= 97.049%\n",
      "k=9    criterion=gini       accuracy score= 96.721%\n",
      "k=9    criterion=entropy    accuracy score= 97.049%\n",
      "k=10   criterion=gini       accuracy score= 96.721%\n",
      "k=10   criterion=entropy    accuracy score= 97.049%\n",
      "k=11   criterion=gini       accuracy score= 97.049%\n",
      "k=11   criterion=entropy    accuracy score= 97.049%\n",
      "k=12   criterion=gini       accuracy score= 97.049%\n",
      "k=12   criterion=entropy    accuracy score= 97.049%\n",
      "k=13   criterion=gini       accuracy score= 97.049%\n",
      "k=13   criterion=entropy    accuracy score= 97.377%\n",
      "k=14   criterion=gini       accuracy score= 97.377%\n",
      "k=14   criterion=entropy    accuracy score= 97.049%\n"
     ]
    }
   ],
   "source": [
    "for md in range(1, 15, 1):\n",
    "    for crt in ['gini', 'entropy']:\n",
    "        rf_classifier = RandomForestClassifier(criterion=crt, max_depth=md)\n",
    "        rf_classifier.fit(X_train, y_train)\n",
    "        y_pred = rf_classifier.predict(X_test)\n",
    "        scores = metrics.accuracy_score(y_test, y_pred)\n",
    "        print(f'k={md:<4} criterion={crt:<10} accuracy score={scores: .3%}')"
   ]
  },
  {
   "cell_type": "markdown",
   "metadata": {},
   "source": [
    "### Boosting\n",
    "Boosting is a special type of Ensemble Learning technique that works by combining several weak learners(predictors with poor accuracy) into a strong learner(a model with strong accuracy). This works by each model paying attention to its predecessor’s mistakes.\n",
    "1) Adaptive Boosting (AKA AdaBoost algorithm)\n",
    "\n",
    "The model initially gives equal weights to all the data points. It then assigns higher weights to points that are wrongly classified. Now all the points which have higher weights are given more importance in the next model. It will keep training models until and unless a lowe error is received.\n",
    "\n",
    "2) Gradient Boosting\n",
    "\n",
    "In Gradient Boosting, each predictor tries to improve on its predecessor by reducing the errors.\n",
    "\n",
    "3) Xtreme gradient descent algorithm (XGBoost)"
   ]
  },
  {
   "cell_type": "markdown",
   "metadata": {},
   "source": [
    "#### XGBoost"
   ]
  },
  {
   "cell_type": "code",
   "execution_count": 36,
   "metadata": {},
   "outputs": [],
   "source": [
    "#install\n",
    "!pip --user install xgboost"
   ]
  },
  {
   "cell_type": "code",
   "execution_count": 30,
   "metadata": {},
   "outputs": [
    {
     "name": "stdout",
     "output_type": "stream",
     "text": [
      "XGBClassifier(base_score=None, booster=None, colsample_bylevel=None,\n",
      "              colsample_bynode=None, colsample_bytree=None,\n",
      "              enable_categorical=False, gamma=None, gpu_id=None,\n",
      "              importance_type=None, interaction_constraints=None,\n",
      "              learning_rate=None, max_delta_step=None, max_depth=None,\n",
      "              min_child_weight=None, missing=nan, monotone_constraints=None,\n",
      "              n_estimators=100, n_jobs=None, num_parallel_tree=None,\n",
      "              predictor=None, random_state=None, reg_alpha=None,\n",
      "              reg_lambda=None, scale_pos_weight=None, subsample=None,\n",
      "              tree_method=None, use_label_encoder=False,\n",
      "              validate_parameters=None, verbosity=None)\n",
      "[14:45:57] WARNING: C:/Users/Administrator/workspace/xgboost-win64_release_1.5.1/src/learner.cc:1115: Starting in XGBoost 1.3.0, the default evaluation metric used with the objective 'binary:logistic' was changed from 'error' to 'logloss'. Explicitly set eval_metric if you'd like to restore the old behavior.\n",
      "Accuracy score:\n",
      " 0.9737704918032787\n",
      "Confusion matrix:\n",
      " [[154   3]\n",
      " [  5 143]]\n",
      "Classification report:\n",
      "               precision    recall  f1-score   support\n",
      "\n",
      "           0     0.9686    0.9809    0.9747       157\n",
      "           1     0.9795    0.9662    0.9728       148\n",
      "\n",
      "    accuracy                         0.9738       305\n",
      "   macro avg     0.9740    0.9736    0.9737       305\n",
      "weighted avg     0.9738    0.9738    0.9738       305\n",
      "\n",
      "Precision:\n",
      " 0.9794520547945206\n",
      "Recall:\n",
      " 0.9662162162162162\n"
     ]
    }
   ],
   "source": [
    "from xgboost import XGBClassifier\n",
    "xgb_classifier = XGBClassifier(use_label_encoder=False)\n",
    "print(xgb_classifier)\n",
    "xgb_classifier.fit(X_train, y_train)\n",
    "print_model_performance(xgb_classifier, X_test, y_test)"
   ]
  },
  {
   "cell_type": "markdown",
   "metadata": {},
   "source": [
    "### Neural Network Classifier ###"
   ]
  },
  {
   "cell_type": "code",
   "execution_count": 26,
   "metadata": {},
   "outputs": [],
   "source": [
    "from sklearn import neural_network\n",
    "\n",
    "nn_classifier = neural_network.MLPClassifier(max_iter=50000)\n",
    "nn_classifier.fit(X_train, y_train)\n",
    "y_pred = nn_classifier.predict(X_test)"
   ]
  },
  {
   "cell_type": "code",
   "execution_count": 27,
   "metadata": {},
   "outputs": [
    {
     "name": "stdout",
     "output_type": "stream",
     "text": [
      "Accuracy score:\n",
      " 0.8655737704918033\n",
      "Confusion matrix:\n",
      " [[131  26]\n",
      " [ 15 133]]\n",
      "Classification report:\n",
      "               precision    recall  f1-score   support\n",
      "\n",
      "           0     0.8973    0.8344    0.8647       157\n",
      "           1     0.8365    0.8986    0.8664       148\n",
      "\n",
      "    accuracy                         0.8656       305\n",
      "   macro avg     0.8669    0.8665    0.8656       305\n",
      "weighted avg     0.8678    0.8656    0.8655       305\n",
      "\n",
      "Precision:\n",
      " 0.8364779874213837\n",
      "Recall:\n",
      " 0.8986486486486487\n"
     ]
    }
   ],
   "source": [
    "print_model_performance(nn_classifier, X_test, y_test)"
   ]
  },
  {
   "cell_type": "code",
   "execution_count": 30,
   "metadata": {},
   "outputs": [
    {
     "name": "stdout",
     "output_type": "stream",
     "text": [
      "<class 'pandas.core.frame.DataFrame'>\n",
      "Int64Index: 710 entries, 609 to 623\n",
      "Data columns (total 5 columns):\n",
      " #   Column        Non-Null Count  Dtype  \n",
      "---  ------        --------------  -----  \n",
      " 0   pH            710 non-null    float64\n",
      " 1   EC            710 non-null    float64\n",
      " 2   Bulk_Density  710 non-null    float64\n",
      " 3   Porosity      710 non-null    float64\n",
      " 4   MC            710 non-null    float64\n",
      "dtypes: float64(5)\n",
      "memory usage: 33.3 KB\n"
     ]
    }
   ],
   "source": [
    "X_train.info()"
   ]
  },
  {
   "cell_type": "code",
   "execution_count": null,
   "metadata": {},
   "outputs": [],
   "source": []
  }
 ],
 "metadata": {
  "kernelspec": {
   "display_name": "Python 3 (ipykernel)",
   "language": "python",
   "name": "python3"
  },
  "language_info": {
   "codemirror_mode": {
    "name": "ipython",
    "version": 3
   },
   "file_extension": ".py",
   "mimetype": "text/x-python",
   "name": "python",
   "nbconvert_exporter": "python",
   "pygments_lexer": "ipython3",
   "version": "3.10.5"
  }
 },
 "nbformat": 4,
 "nbformat_minor": 4
}
