{
 "cells": [
  {
   "cell_type": "markdown",
   "metadata": {},
   "source": [
    "## Feature Scaling"
   ]
  },
  {
   "cell_type": "markdown",
   "metadata": {},
   "source": [
    "```\n",
    "Features (independent) need to be in the same scale.\n",
    "\n",
    "1) Min-Max Normalization\n",
    " \n",
    "    Xnew = Xold - Xmin\n",
    "           -----------\n",
    "           Xmax - Xmin\n",
    "\n",
    "2) Standadization \n",
    "    Xnew =  X - mu\n",
    "            ------\n",
    "            sigma\n",
    "            \n",
    "When to use feature scaling\n",
    "1) Use of gradient descent (like deep leaning)\n",
    "2) Use of distance calculating techniques (KNN, K-Means)\n",
    "```\n",
    "\n"
   ]
  },
  {
   "cell_type": "code",
   "execution_count": 1,
   "metadata": {},
   "outputs": [],
   "source": [
    "import numpy as np\n",
    "             #height - mm, weight - kg\n",
    "data = np.array([[168, 62],\n",
    "                [172, 70],\n",
    "                [180, 90],\n",
    "                [192, 120],\n",
    "                [178, 110]])"
   ]
  },
  {
   "cell_type": "code",
   "execution_count": 2,
   "metadata": {},
   "outputs": [
    {
     "data": {
      "text/plain": [
       "array([[168,  62],\n",
       "       [172,  70],\n",
       "       [180,  90],\n",
       "       [192, 120],\n",
       "       [178, 110]])"
      ]
     },
     "execution_count": 2,
     "metadata": {},
     "output_type": "execute_result"
    }
   ],
   "source": [
    "data"
   ]
  },
  {
   "cell_type": "markdown",
   "metadata": {},
   "source": [
    "### Normalization"
   ]
  },
  {
   "cell_type": "code",
   "execution_count": 4,
   "metadata": {},
   "outputs": [
    {
     "data": {
      "text/plain": [
       "array([[0.        , 0.        ],\n",
       "       [0.16666667, 0.13793103],\n",
       "       [0.5       , 0.48275862],\n",
       "       [1.        , 1.        ],\n",
       "       [0.41666667, 0.82758621]])"
      ]
     },
     "execution_count": 4,
     "metadata": {},
     "output_type": "execute_result"
    }
   ],
   "source": [
    "from sklearn.preprocessing import MinMaxScaler, StandardScaler\n",
    "\n",
    "scaler = MinMaxScaler()\n",
    "min_max_scaled_data = scaler.fit_transform(data)\n",
    "min_max_scaled_data"
   ]
  },
  {
   "cell_type": "markdown",
   "metadata": {},
   "source": [
    "### Standadization"
   ]
  },
  {
   "cell_type": "code",
   "execution_count": 5,
   "metadata": {},
   "outputs": [
    {
     "data": {
      "text/plain": [
       "array([[-1.21987509, -1.27437573],\n",
       "       [-0.73192505, -0.91539665],\n",
       "       [ 0.24397502, -0.01794895],\n",
       "       [ 1.70782513,  1.32822259],\n",
       "       [ 0.        ,  0.87949874]])"
      ]
     },
     "execution_count": 5,
     "metadata": {},
     "output_type": "execute_result"
    }
   ],
   "source": [
    "scaler = StandardScaler()\n",
    "standard_scaled_data = scaler.fit_transform(data)\n",
    "standard_scaled_data"
   ]
  }
 ],
 "metadata": {
  "kernelspec": {
   "display_name": "Python 3 (ipykernel)",
   "language": "python",
   "name": "python3"
  },
  "language_info": {
   "codemirror_mode": {
    "name": "ipython",
    "version": 3
   },
   "file_extension": ".py",
   "mimetype": "text/x-python",
   "name": "python",
   "nbconvert_exporter": "python",
   "pygments_lexer": "ipython3",
   "version": "3.10.5"
  }
 },
 "nbformat": 4,
 "nbformat_minor": 4
}
