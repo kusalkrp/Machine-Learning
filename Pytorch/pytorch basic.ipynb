{
 "cells": [
  {
   "cell_type": "code",
   "execution_count": 1,
   "id": "d7049850-ab67-4cb7-8755-9c23c71c12f3",
   "metadata": {
    "tags": []
   },
   "outputs": [],
   "source": [
    "import torch\n"
   ]
  },
  {
   "cell_type": "code",
   "execution_count": 2,
   "id": "527e356e-2b5c-45eb-bd80-29a7617c0075",
   "metadata": {
    "tags": []
   },
   "outputs": [],
   "source": [
    "tensor1=torch.tensor(8)"
   ]
  },
  {
   "cell_type": "code",
   "execution_count": 3,
   "id": "7ff293e1-3d1c-4910-83e4-602ea1f52609",
   "metadata": {
    "tags": []
   },
   "outputs": [
    {
     "name": "stdout",
     "output_type": "stream",
     "text": [
      "tensor(8)\n"
     ]
    }
   ],
   "source": [
    "print(tensor1)"
   ]
  },
  {
   "cell_type": "code",
   "execution_count": 4,
   "id": "d068b8a5-4707-4f96-85c9-5b4dd048a468",
   "metadata": {
    "tags": []
   },
   "outputs": [
    {
     "name": "stdout",
     "output_type": "stream",
     "text": [
      "torch.int64\n"
     ]
    }
   ],
   "source": [
    "print(tensor1.dtype)"
   ]
  },
  {
   "cell_type": "code",
   "execution_count": 8,
   "id": "f865677c-8f23-48e2-b610-4c0dd1476b3b",
   "metadata": {
    "tags": []
   },
   "outputs": [
    {
     "name": "stdout",
     "output_type": "stream",
     "text": [
      "tensor([10., 20., 30., 40.])\n"
     ]
    }
   ],
   "source": [
    "tensor2 = torch.tensor([10,20.0,30,40])\n",
    "print(tensor2)"
   ]
  },
  {
   "cell_type": "code",
   "execution_count": 13,
   "id": "25ad07a2-420c-4b81-b72f-e9ae52bec314",
   "metadata": {
    "tags": []
   },
   "outputs": [
    {
     "name": "stdout",
     "output_type": "stream",
     "text": [
      "tensor([[22, 28],\n",
      "        [45, 85],\n",
      "        [45, 23]])\n"
     ]
    }
   ],
   "source": [
    "tensor2d = torch.tensor([[22,28],[45,85],[45,23]])\n",
    "print(tensor2d)"
   ]
  },
  {
   "cell_type": "code",
   "execution_count": 15,
   "id": "87f1df4d-658b-4d5c-a1cb-5eb3512ff839",
   "metadata": {
    "tags": []
   },
   "outputs": [
    {
     "name": "stdout",
     "output_type": "stream",
     "text": [
      "tensor([[[ 20,  40,  60],\n",
      "         [ 40,  70,  50]],\n",
      "\n",
      "        [[200, 400, 600],\n",
      "         [400, 700, 500]],\n",
      "\n",
      "        [[ 78,  40,  60],\n",
      "         [ 40,  70,  50]]])\n"
     ]
    }
   ],
   "source": [
    "tensor3d = torch.tensor ([\n",
    "    [[20,40,60],[40,70,50]],\n",
    "     [[200,400,600],[400,700,500]],\n",
    "     [[78,40,60],[40,70,50]],\n",
    "\n",
    "]\n",
    ")\n",
    "print(tensor3d)"
   ]
  },
  {
   "cell_type": "code",
   "execution_count": 16,
   "id": "a0e76a27-e041-4437-a2bc-0891cc30d905",
   "metadata": {
    "tags": []
   },
   "outputs": [
    {
     "name": "stdout",
     "output_type": "stream",
     "text": [
      "tensor([2, 1, 3, 0])\n"
     ]
    }
   ],
   "source": [
    "streaming_service_list = ['netflix','hulu','prime video','HBO']\n",
    "from sklearn import preprocessing\n",
    "str = preprocessing.LabelEncoder()\n",
    "targets = str.fit_transform(streaming_service_list)\n",
    "tensorList = torch.as_tensor(targets)\n",
    "print(tensorList)"
   ]
  },
  {
   "cell_type": "code",
   "execution_count": null,
   "id": "3ab99c71-9a85-4101-befb-9802d5506aac",
   "metadata": {},
   "outputs": [],
   "source": []
  }
 ],
 "metadata": {
  "kernelspec": {
   "display_name": "Python 3 (ipykernel)",
   "language": "python",
   "name": "python3"
  },
  "language_info": {
   "codemirror_mode": {
    "name": "ipython",
    "version": 3
   },
   "file_extension": ".py",
   "mimetype": "text/x-python",
   "name": "python",
   "nbconvert_exporter": "python",
   "pygments_lexer": "ipython3",
   "version": "3.11.5"
  }
 },
 "nbformat": 4,
 "nbformat_minor": 5
}
