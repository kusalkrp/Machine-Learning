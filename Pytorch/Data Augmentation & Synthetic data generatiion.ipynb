{
 "cells": [
  {
   "cell_type": "code",
   "execution_count": 1,
   "id": "a05dce5e-1db4-4d88-9906-17852a420972",
   "metadata": {
    "tags": []
   },
   "outputs": [],
   "source": [
    "import albumentations as A"
   ]
  },
  {
   "cell_type": "code",
   "execution_count": 2,
   "id": "047e6a67-b9a5-4e92-b5c4-3a5b02df0af0",
   "metadata": {
    "tags": []
   },
   "outputs": [],
   "source": [
    "import torch \n",
    "from PIL import Image\n",
    "import numpy as np"
   ]
  },
  {
   "cell_type": "code",
   "execution_count": 3,
   "id": "6f8618bb-991c-488c-98ee-913fd3488f33",
   "metadata": {
    "tags": []
   },
   "outputs": [],
   "source": [
    "transform = A.Compose([\n",
    "    A.HorizontalFlip(p=1),\n",
    "    \n",
    "])"
   ]
  },
  {
   "cell_type": "code",
   "execution_count": 4,
   "id": "192eae5c-ada9-4d7a-9fc7-70e7d866ba77",
   "metadata": {
    "tags": []
   },
   "outputs": [],
   "source": [
    "normalImage = Image.open(\"car.jpeg\")"
   ]
  },
  {
   "cell_type": "code",
   "execution_count": 5,
   "id": "d26259e2-ef93-4738-8ea9-af7a4ef79108",
   "metadata": {
    "tags": []
   },
   "outputs": [],
   "source": [
    "image = np.array(normalImage)"
   ]
  },
  {
   "cell_type": "code",
   "execution_count": 6,
   "id": "cf05ec62-7677-4a82-a498-6c65692da1f5",
   "metadata": {
    "tags": []
   },
   "outputs": [],
   "source": [
    "transformedImage = transform(image=image)"
   ]
  },
  {
   "cell_type": "code",
   "execution_count": 7,
   "id": "fa779e51-dc22-4b13-b348-7a6253931659",
   "metadata": {
    "tags": []
   },
   "outputs": [
    {
     "name": "stdout",
     "output_type": "stream",
     "text": [
      "{'image': array([[[255, 255, 255],\n",
      "        [255, 255, 255],\n",
      "        [255, 255, 255],\n",
      "        ...,\n",
      "        [255, 255, 255],\n",
      "        [255, 255, 255],\n",
      "        [255, 255, 255]],\n",
      "\n",
      "       [[255, 255, 255],\n",
      "        [255, 255, 255],\n",
      "        [255, 255, 255],\n",
      "        ...,\n",
      "        [255, 255, 255],\n",
      "        [255, 255, 255],\n",
      "        [255, 255, 255]],\n",
      "\n",
      "       [[255, 255, 255],\n",
      "        [255, 255, 255],\n",
      "        [255, 255, 255],\n",
      "        ...,\n",
      "        [255, 255, 255],\n",
      "        [255, 255, 255],\n",
      "        [255, 255, 255]],\n",
      "\n",
      "       ...,\n",
      "\n",
      "       [[255, 255, 255],\n",
      "        [255, 255, 255],\n",
      "        [255, 255, 255],\n",
      "        ...,\n",
      "        [255, 255, 255],\n",
      "        [255, 255, 255],\n",
      "        [255, 255, 255]],\n",
      "\n",
      "       [[255, 255, 255],\n",
      "        [255, 255, 255],\n",
      "        [255, 255, 255],\n",
      "        ...,\n",
      "        [255, 255, 255],\n",
      "        [255, 255, 255],\n",
      "        [255, 255, 255]],\n",
      "\n",
      "       [[255, 255, 255],\n",
      "        [255, 255, 255],\n",
      "        [255, 255, 255],\n",
      "        ...,\n",
      "        [255, 255, 255],\n",
      "        [255, 255, 255],\n",
      "        [255, 255, 255]]], dtype=uint8)}\n"
     ]
    }
   ],
   "source": [
    "print(transformedImage)"
   ]
  },
  {
   "cell_type": "code",
   "execution_count": 8,
   "id": "29d0df12-c8c3-431c-b87b-c8a74b22783b",
   "metadata": {
    "tags": []
   },
   "outputs": [],
   "source": [
    "transformedImage = transformedImage[\"image\"]"
   ]
  },
  {
   "cell_type": "code",
   "execution_count": 9,
   "id": "878eab21-4a65-43a5-8399-77b1506e35d0",
   "metadata": {
    "tags": []
   },
   "outputs": [],
   "source": [
    "transformedImage = Image.fromarray(transformedImage)"
   ]
  },
  {
   "cell_type": "code",
   "execution_count": 10,
   "id": "ec745970-e877-4e38-95ed-b709969be6dd",
   "metadata": {
    "tags": []
   },
   "outputs": [],
   "source": [
    "transformedImage.save(\"transformed.jpg\")"
   ]
  },
  {
   "cell_type": "markdown",
   "id": "7051977e-a22c-4438-abfd-983bd6d33813",
   "metadata": {},
   "source": [
    "## Synthetic Data Generation"
   ]
  },
  {
   "cell_type": "code",
   "execution_count": 15,
   "id": "cc663a57-f99d-4f6e-bad2-8ecf90012826",
   "metadata": {
    "tags": []
   },
   "outputs": [],
   "source": [
    "import glob\n",
    "import os\n",
    "import shutil\n",
    "import io\n",
    "from albumentations.augmentations.transforms import RGBShift\n",
    "from tqdm import tqdm \n",
    "import cv2\n"
   ]
  },
  {
   "cell_type": "code",
   "execution_count": 16,
   "id": "319eef2d-1da1-40b5-985f-164abf10bf98",
   "metadata": {
    "tags": []
   },
   "outputs": [],
   "source": [
    "transformList = [\n",
    "    A.Compose([\n",
    "    A.Blur(always_apply=True, p=1.0, blur_limit=(3, 7))\n",
    "    ]), A.Compose([\n",
    "    A.GaussNoise(always_apply=True, p=1.0, var_limit=(10.0, 50.0), per_channel=True, mean=0.0)\n",
    "    ]), A.Compose([\n",
    "    A.Flip(always_apply=True, p=1.0)\n",
    "    ]), A.Compose([\n",
    "    A.Downscale(always_apply=True, p=1.0, scale_min=0.25, scale_max=0.25)\n",
    "    ]), A.Compose([\n",
    "    A.Equalize(always_apply=True, p=1.0, mode='cv', by_channels=True)\n",
    "    ]), A.Compose([\n",
    "    A.HorizontalFlip(always_apply=True, p=1.0)\n",
    "    ]), A.Compose([\n",
    "    A.HueSaturationValue(always_apply=True, p=1.0, hue_shift_limit=(-20, 20), sat_shift_limit=(-30, 30), val_shift_limit=(-20, 20))\n",
    "    ])\n",
    "\n",
    "]"
   ]
  },
  {
   "cell_type": "code",
   "execution_count": 17,
   "id": "5e78967b-4c81-436b-b7e1-bce04e501b8e",
   "metadata": {
    "tags": []
   },
   "outputs": [],
   "source": [
    "image = cv2.imread('car.jpeg')"
   ]
  },
  {
   "cell_type": "code",
   "execution_count": 19,
   "id": "75dfeefd-3228-4bb5-9ecd-69efe2d2bbd7",
   "metadata": {
    "tags": []
   },
   "outputs": [],
   "source": [
    "image = cv2.cvtColor(image, cv2.COLOR_BGR2RGB)"
   ]
  },
  {
   "cell_type": "code",
   "execution_count": 20,
   "id": "572542c7-2b70-44a2-adcb-d5a1103f429c",
   "metadata": {
    "tags": []
   },
   "outputs": [],
   "source": [
    "count = 0"
   ]
  },
  {
   "cell_type": "code",
   "execution_count": 28,
   "id": "e3ea1db2-2bd8-47cb-acee-1071e59c999a",
   "metadata": {
    "tags": []
   },
   "outputs": [
    {
     "name": "stderr",
     "output_type": "stream",
     "text": [
      "100%|██████████| 7/7 [00:00<00:00, 333.35it/s]\n"
     ]
    }
   ],
   "source": [
    "for augmentation in tqdm(transformList):\n",
    "    augmentedImage = augmentation(image=image)\n",
    "    augmentedImage = augmentedImage[\"image\"]\n",
    "    augmentedImage = Image.fromarray(augmentedImage,'RGB')\n",
    "    augmentedImage.save(f'{count}.jpg')\n",
    "    count +=1\n",
    " \n",
    "    "
   ]
  },
  {
   "cell_type": "code",
   "execution_count": null,
   "id": "80b6123c-2f99-4939-b782-2eef8edf693e",
   "metadata": {},
   "outputs": [],
   "source": []
  }
 ],
 "metadata": {
  "kernelspec": {
   "display_name": "Python 3 (ipykernel)",
   "language": "python",
   "name": "python3"
  },
  "language_info": {
   "codemirror_mode": {
    "name": "ipython",
    "version": 3
   },
   "file_extension": ".py",
   "mimetype": "text/x-python",
   "name": "python",
   "nbconvert_exporter": "python",
   "pygments_lexer": "ipython3",
   "version": "3.11.5"
  }
 },
 "nbformat": 4,
 "nbformat_minor": 5
}
