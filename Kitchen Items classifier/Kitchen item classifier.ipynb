{
 "cells": [
  {
   "cell_type": "code",
   "execution_count": 1,
   "id": "ec514081-7f89-443b-af3b-1f9f751f3b57",
   "metadata": {
    "tags": []
   },
   "outputs": [
    {
     "name": "stdout",
     "output_type": "stream",
     "text": [
      "WARNING:tensorflow:From C:\\Users\\Kusal\\AppData\\Roaming\\Python\\Python311\\site-packages\\keras\\src\\losses.py:2976: The name tf.losses.sparse_softmax_cross_entropy is deprecated. Please use tf.compat.v1.losses.sparse_softmax_cross_entropy instead.\n",
      "\n",
      "Found 218 validated image filenames belonging to 7 classes.\n",
      "Found 55 validated image filenames belonging to 7 classes.\n"
     ]
    }
   ],
   "source": [
    "import os\n",
    "import numpy as np\n",
    "import matplotlib.pyplot as plt\n",
    "from sklearn.model_selection import train_test_split\n",
    "from tensorflow.keras.preprocessing.image import ImageDataGenerator\n",
    "from tensorflow.keras.models import Sequential\n",
    "from tensorflow.keras.layers import Conv2D, MaxPooling2D, Flatten, Dense\n",
    "from tensorflow.keras.optimizers import Adam\n",
    "from tensorflow.keras.callbacks import ModelCheckpoint\n",
    "import pandas as pd\n",
    "\n",
    "# Define the path to your dataset\n",
    "data_dir = 'ML dataset/Kitchen'\n",
    "\n",
    "# List all classes\n",
    "classes = ['Cup', 'Cutting_Boards', 'Kitchen_appliances', 'Pan', 'Plate', 'Pot', 'Utensil']\n",
    "\n",
    "# Create a list to store images and labels\n",
    "images = []\n",
    "labels = []\n",
    "\n",
    "# Load images and labels\n",
    "for i, class_name in enumerate(classes):\n",
    "    class_path = os.path.join(data_dir, class_name)\n",
    "    for img_name in os.listdir(class_path):\n",
    "        img_path = os.path.join(class_path, img_name)\n",
    "        images.append(img_path)\n",
    "        labels.append(str(i))  # Convert label to string\n",
    "\n",
    "# Create a DataFrame from the lists\n",
    "data = {'filepath': images, 'label': labels}\n",
    "df = pd.DataFrame(data)\n",
    "\n",
    "# Split data into training and validation sets\n",
    "train_df, val_df = train_test_split(df, test_size=0.2, random_state=42)\n",
    "\n",
    "# Hyperparameters\n",
    "input_shape = (224, 224, 3)\n",
    "batch_size = 32\n",
    "epochs = 35\n",
    "learning_rate = 0.001\n",
    "\n",
    "# Data Augmentation\n",
    "train_datagen = ImageDataGenerator(\n",
    "    rescale=1./255,\n",
    "    shear_range=0.2,\n",
    "    zoom_range=0.2,\n",
    "    horizontal_flip=True\n",
    ")\n",
    "\n",
    "val_datagen = ImageDataGenerator(rescale=1./255)\n",
    "\n",
    "train_generator = train_datagen.flow_from_dataframe(\n",
    "    train_df,\n",
    "    x_col='filepath',\n",
    "    y_col='label',\n",
    "    target_size=input_shape[:2],\n",
    "    batch_size=batch_size,\n",
    "    class_mode='categorical'\n",
    ")\n",
    "\n",
    "val_generator = val_datagen.flow_from_dataframe(\n",
    "    val_df,\n",
    "    x_col='filepath',\n",
    "    y_col='label',\n",
    "    target_size=input_shape[:2],\n",
    "    batch_size=batch_size,\n",
    "    class_mode='categorical'\n",
    ")\n"
   ]
  },
  {
   "cell_type": "code",
   "execution_count": 2,
   "id": "12046179-3d52-47c2-91bf-301ad5bfb8f1",
   "metadata": {
    "tags": []
   },
   "outputs": [
    {
     "name": "stdout",
     "output_type": "stream",
     "text": [
      "WARNING:tensorflow:From C:\\Users\\Kusal\\AppData\\Roaming\\Python\\Python311\\site-packages\\keras\\src\\backend.py:873: The name tf.get_default_graph is deprecated. Please use tf.compat.v1.get_default_graph instead.\n",
      "\n",
      "WARNING:tensorflow:From C:\\Users\\Kusal\\AppData\\Roaming\\Python\\Python311\\site-packages\\keras\\src\\layers\\pooling\\max_pooling2d.py:161: The name tf.nn.max_pool is deprecated. Please use tf.nn.max_pool2d instead.\n",
      "\n"
     ]
    }
   ],
   "source": [
    "# Model Architecture\n",
    "model = Sequential()\n",
    "model.add(Conv2D(32, (3, 3), activation='relu', input_shape=input_shape))\n",
    "model.add(MaxPooling2D((2, 2)))\n",
    "\n",
    "model.add(Conv2D(64, (3, 3), activation='relu'))\n",
    "model.add(MaxPooling2D((2, 2)))\n",
    "\n",
    "model.add(Conv2D(128, (3, 3), activation='relu'))\n",
    "model.add(MaxPooling2D((2, 2)))\n",
    "\n",
    "model.add(Flatten())\n",
    "model.add(Dense(128, activation='relu'))\n",
    "model.add(Dense(7, activation='softmax'))  # 7 classes\n"
   ]
  },
  {
   "cell_type": "code",
   "execution_count": 3,
   "id": "e0467038-8552-4388-b982-10b2497547de",
   "metadata": {
    "tags": []
   },
   "outputs": [],
   "source": [
    "# Compile the Model\n",
    "model.compile(optimizer=Adam(learning_rate=learning_rate),\n",
    "              loss='categorical_crossentropy',\n",
    "              metrics=['accuracy'])"
   ]
  },
  {
   "cell_type": "code",
   "execution_count": 4,
   "id": "410283a5-5fe2-4c81-8026-98c0afa88067",
   "metadata": {
    "tags": []
   },
   "outputs": [
    {
     "name": "stdout",
     "output_type": "stream",
     "text": [
      "Model: \"sequential\"\n",
      "_________________________________________________________________\n",
      " Layer (type)                Output Shape              Param #   \n",
      "=================================================================\n",
      " conv2d (Conv2D)             (None, 222, 222, 32)      896       \n",
      "                                                                 \n",
      " max_pooling2d (MaxPooling2  (None, 111, 111, 32)      0         \n",
      " D)                                                              \n",
      "                                                                 \n",
      " conv2d_1 (Conv2D)           (None, 109, 109, 64)      18496     \n",
      "                                                                 \n",
      " max_pooling2d_1 (MaxPoolin  (None, 54, 54, 64)        0         \n",
      " g2D)                                                            \n",
      "                                                                 \n",
      " conv2d_2 (Conv2D)           (None, 52, 52, 128)       73856     \n",
      "                                                                 \n",
      " max_pooling2d_2 (MaxPoolin  (None, 26, 26, 128)       0         \n",
      " g2D)                                                            \n",
      "                                                                 \n",
      " flatten (Flatten)           (None, 86528)             0         \n",
      "                                                                 \n",
      " dense (Dense)               (None, 128)               11075712  \n",
      "                                                                 \n",
      " dense_1 (Dense)             (None, 7)                 903       \n",
      "                                                                 \n",
      "=================================================================\n",
      "Total params: 11169863 (42.61 MB)\n",
      "Trainable params: 11169863 (42.61 MB)\n",
      "Non-trainable params: 0 (0.00 Byte)\n",
      "_________________________________________________________________\n"
     ]
    }
   ],
   "source": [
    "# Model Summary\n",
    "model.summary()"
   ]
  },
  {
   "cell_type": "code",
   "execution_count": 5,
   "id": "89ca36c1-0cc0-4915-ae9a-0e75e0ae51a5",
   "metadata": {
    "tags": []
   },
   "outputs": [],
   "source": [
    "# Callbacks\n",
    "checkpoint_path = \"model_checkpoint.h5\"\n",
    "checkpoint = ModelCheckpoint(checkpoint_path, save_best_only=True)"
   ]
  },
  {
   "cell_type": "code",
   "execution_count": 6,
   "id": "b8643821-0c2f-429f-9254-4d8ac590d1a5",
   "metadata": {
    "tags": []
   },
   "outputs": [
    {
     "name": "stdout",
     "output_type": "stream",
     "text": [
      "Epoch 1/35\n",
      "WARNING:tensorflow:From C:\\Users\\Kusal\\AppData\\Roaming\\Python\\Python311\\site-packages\\keras\\src\\utils\\tf_utils.py:492: The name tf.ragged.RaggedTensorValue is deprecated. Please use tf.compat.v1.ragged.RaggedTensorValue instead.\n",
      "\n",
      "WARNING:tensorflow:From C:\\Users\\Kusal\\AppData\\Roaming\\Python\\Python311\\site-packages\\keras\\src\\engine\\base_layer_utils.py:384: The name tf.executing_eagerly_outside_functions is deprecated. Please use tf.compat.v1.executing_eagerly_outside_functions instead.\n",
      "\n",
      "6/6 [==============================] - ETA: 0s - loss: 2.2860 - accuracy: 0.1989"
     ]
    },
    {
     "name": "stderr",
     "output_type": "stream",
     "text": [
      "C:\\Users\\Kusal\\AppData\\Roaming\\Python\\Python311\\site-packages\\keras\\src\\engine\\training.py:3103: UserWarning: You are saving your model as an HDF5 file via `model.save()`. This file format is considered legacy. We recommend using instead the native Keras format, e.g. `model.save('my_model.keras')`.\n",
      "  saving_api.save_model(\n"
     ]
    },
    {
     "name": "stdout",
     "output_type": "stream",
     "text": [
      "6/6 [==============================] - 33s 6s/step - loss: 2.2860 - accuracy: 0.1989 - val_loss: 1.9077 - val_accuracy: 0.1875\n",
      "Epoch 2/35\n",
      "6/6 [==============================] - 28s 5s/step - loss: 1.7330 - accuracy: 0.2957 - val_loss: 1.5792 - val_accuracy: 0.4375\n",
      "Epoch 3/35\n",
      "6/6 [==============================] - 28s 5s/step - loss: 1.4857 - accuracy: 0.4086 - val_loss: 1.5240 - val_accuracy: 0.4062\n",
      "Epoch 4/35\n",
      "6/6 [==============================] - 29s 5s/step - loss: 1.3501 - accuracy: 0.4677 - val_loss: 1.2175 - val_accuracy: 0.5312\n",
      "Epoch 5/35\n",
      "6/6 [==============================] - 28s 5s/step - loss: 1.2784 - accuracy: 0.5000 - val_loss: 1.2278 - val_accuracy: 0.4688\n",
      "Epoch 6/35\n",
      "6/6 [==============================] - 28s 5s/step - loss: 1.1542 - accuracy: 0.5753 - val_loss: 1.3328 - val_accuracy: 0.4375\n",
      "Epoch 7/35\n",
      "6/6 [==============================] - 28s 5s/step - loss: 1.1921 - accuracy: 0.5645 - val_loss: 1.4605 - val_accuracy: 0.5000\n",
      "Epoch 8/35\n",
      "6/6 [==============================] - 28s 5s/step - loss: 0.9984 - accuracy: 0.5806 - val_loss: 1.2607 - val_accuracy: 0.5312\n",
      "Epoch 9/35\n",
      "6/6 [==============================] - 29s 5s/step - loss: 0.8747 - accuracy: 0.6667 - val_loss: 1.1944 - val_accuracy: 0.5938\n",
      "Epoch 10/35\n",
      "6/6 [==============================] - 28s 5s/step - loss: 0.7672 - accuracy: 0.7204 - val_loss: 1.3690 - val_accuracy: 0.5000\n",
      "Epoch 11/35\n",
      "6/6 [==============================] - 28s 5s/step - loss: 0.6973 - accuracy: 0.7634 - val_loss: 1.1270 - val_accuracy: 0.6875\n",
      "Epoch 12/35\n",
      "6/6 [==============================] - 28s 5s/step - loss: 0.5159 - accuracy: 0.8280 - val_loss: 0.9888 - val_accuracy: 0.6250\n",
      "Epoch 13/35\n",
      "6/6 [==============================] - 28s 5s/step - loss: 0.5526 - accuracy: 0.8065 - val_loss: 1.0792 - val_accuracy: 0.6562\n",
      "Epoch 14/35\n",
      "6/6 [==============================] - 28s 5s/step - loss: 0.4534 - accuracy: 0.8441 - val_loss: 1.0539 - val_accuracy: 0.6562\n",
      "Epoch 15/35\n",
      "6/6 [==============================] - 28s 5s/step - loss: 0.4269 - accuracy: 0.8656 - val_loss: 0.7801 - val_accuracy: 0.7500\n",
      "Epoch 16/35\n",
      "6/6 [==============================] - 28s 5s/step - loss: 0.3693 - accuracy: 0.8548 - val_loss: 1.1531 - val_accuracy: 0.6875\n",
      "Epoch 17/35\n",
      "6/6 [==============================] - 28s 5s/step - loss: 0.3267 - accuracy: 0.8978 - val_loss: 1.0430 - val_accuracy: 0.7812\n",
      "Epoch 18/35\n",
      "6/6 [==============================] - 28s 5s/step - loss: 0.3600 - accuracy: 0.8438 - val_loss: 0.8296 - val_accuracy: 0.7812\n",
      "Epoch 19/35\n",
      "6/6 [==============================] - 28s 5s/step - loss: 0.4185 - accuracy: 0.8710 - val_loss: 1.3265 - val_accuracy: 0.7188\n",
      "Epoch 20/35\n",
      "6/6 [==============================] - 28s 5s/step - loss: 0.3648 - accuracy: 0.8542 - val_loss: 1.2408 - val_accuracy: 0.6250\n",
      "Epoch 21/35\n",
      "6/6 [==============================] - 28s 5s/step - loss: 0.4088 - accuracy: 0.8656 - val_loss: 1.0950 - val_accuracy: 0.7500\n",
      "Epoch 22/35\n",
      "6/6 [==============================] - 29s 5s/step - loss: 0.3278 - accuracy: 0.8698 - val_loss: 0.8457 - val_accuracy: 0.7500\n",
      "Epoch 23/35\n",
      "6/6 [==============================] - 28s 5s/step - loss: 0.3374 - accuracy: 0.8978 - val_loss: 0.8337 - val_accuracy: 0.8438\n",
      "Epoch 24/35\n",
      "6/6 [==============================] - 28s 5s/step - loss: 0.2428 - accuracy: 0.9247 - val_loss: 1.0638 - val_accuracy: 0.6875\n",
      "Epoch 25/35\n",
      "6/6 [==============================] - 28s 5s/step - loss: 0.2581 - accuracy: 0.9247 - val_loss: 0.7414 - val_accuracy: 0.7188\n",
      "Epoch 26/35\n",
      "6/6 [==============================] - 29s 5s/step - loss: 0.3038 - accuracy: 0.8925 - val_loss: 0.7112 - val_accuracy: 0.7500\n",
      "Epoch 27/35\n",
      "6/6 [==============================] - 29s 5s/step - loss: 0.2353 - accuracy: 0.9194 - val_loss: 1.1204 - val_accuracy: 0.7188\n",
      "Epoch 28/35\n",
      "6/6 [==============================] - 29s 5s/step - loss: 0.1536 - accuracy: 0.9570 - val_loss: 0.6108 - val_accuracy: 0.7812\n",
      "Epoch 29/35\n",
      "6/6 [==============================] - 28s 5s/step - loss: 0.1813 - accuracy: 0.9355 - val_loss: 0.5879 - val_accuracy: 0.8125\n",
      "Epoch 30/35\n",
      "6/6 [==============================] - 28s 5s/step - loss: 0.1115 - accuracy: 0.9792 - val_loss: 0.6568 - val_accuracy: 0.7188\n",
      "Epoch 31/35\n",
      "6/6 [==============================] - 29s 5s/step - loss: 0.1180 - accuracy: 0.9635 - val_loss: 0.7364 - val_accuracy: 0.8125\n",
      "Epoch 32/35\n",
      "6/6 [==============================] - 28s 5s/step - loss: 0.1029 - accuracy: 0.9624 - val_loss: 0.9760 - val_accuracy: 0.7188\n",
      "Epoch 33/35\n",
      "6/6 [==============================] - 27s 5s/step - loss: 0.1009 - accuracy: 0.9624 - val_loss: 0.7802 - val_accuracy: 0.7188\n",
      "Epoch 34/35\n",
      "6/6 [==============================] - 28s 5s/step - loss: 0.0627 - accuracy: 0.9892 - val_loss: 0.6106 - val_accuracy: 0.8125\n",
      "Epoch 35/35\n",
      "6/6 [==============================] - 28s 5s/step - loss: 0.0854 - accuracy: 0.9624 - val_loss: 0.2589 - val_accuracy: 0.9062\n"
     ]
    }
   ],
   "source": [
    "# Train the Model\n",
    "history = model.fit(\n",
    "    train_generator,\n",
    "    steps_per_epoch=train_generator.samples // batch_size,\n",
    "    epochs=epochs,\n",
    "    validation_data=val_generator,\n",
    "    validation_steps=val_generator.samples // batch_size,\n",
    "    callbacks=[checkpoint]\n",
    ")"
   ]
  },
  {
   "cell_type": "code",
   "execution_count": 11,
   "id": "ae189d97-778d-42de-b902-0066204ed2a3",
   "metadata": {
    "tags": []
   },
   "outputs": [
    {
     "data": {
      "image/png": "[encoded data removed]",
      "text/plain": [
       "<Figure size 640x480 with 1 Axes>"
      ]
     },
     "metadata": {},
     "output_type": "display_data"
    }
   ],
   "source": [
    "# Plot Training History\n",
    "plt.plot(history.history['accuracy'], label='Training Accuracy')\n",
    "plt.plot(history.history['val_accuracy'], label='Validation Accuracy')\n",
    "plt.xlabel('Epochs')\n",
    "plt.ylabel('Accuracy')\n",
    "plt.legend()\n",
    "plt.show()"
   ]
  },
  {
   "cell_type": "code",
   "execution_count": 12,
   "id": "433e3a0c-cd6c-40fc-ba68-8e0a89eea6e3",
   "metadata": {
    "tags": []
   },
   "outputs": [
    {
     "name": "stdout",
     "output_type": "stream",
     "text": [
      "2/2 [==============================] - 6s 2s/step - loss: 0.5769 - accuracy: 0.8545\n",
      "Validation Accuracy: 0.8545454740524292\n"
     ]
    }
   ],
   "source": [
    "model.load_weights(checkpoint_path)\n",
    "test_loss, test_accuracy = model.evaluate(val_generator)\n",
    "print(f\"Validation Accuracy: {test_accuracy}\")"
   ]
  },
  {
   "cell_type": "code",
   "execution_count": 29,
   "id": "e48329f9-ed6b-421c-9305-24d9aefd485e",
   "metadata": {
    "tags": []
   },
   "outputs": [
    {
     "name": "stdout",
     "output_type": "stream",
     "text": [
      "2/2 [==============================] - 6s 2s/step\n"
     ]
    }
   ],
   "source": [
    "# Make Predictions\n",
    "predictions = model.predict(val_generator)\n",
    "predicted_classes = np.argmax(predictions, axis=1)"
   ]
  },
  {
   "cell_type": "code",
   "execution_count": 36,
   "id": "6e291999-c540-4d18-8a4c-00d278050e87",
   "metadata": {
    "tags": []
   },
   "outputs": [
    {
     "name": "stdout",
     "output_type": "stream",
     "text": [
      "Actual: ML dataset, Predicted: 3\n",
      "Actual: ML dataset, Predicted: 6\n",
      "Actual: ML dataset, Predicted: 1\n",
      "Actual: ML dataset, Predicted: 6\n",
      "Actual: ML dataset, Predicted: 4\n",
      "Actual: ML dataset, Predicted: 6\n",
      "Actual: ML dataset, Predicted: 5\n",
      "Actual: ML dataset, Predicted: 6\n",
      "Actual: ML dataset, Predicted: 0\n",
      "Actual: ML dataset, Predicted: 2\n"
     ]
    }
   ],
   "source": [
    "# Display some predictions\n",
    "class_labels = list(train_generator.class_indices.keys())\n",
    "for i in range(10):\n",
    "    print(f\"Actual: {val_df.iloc[i]['filepath'].split('/')[-2]}, Predicted: {class_labels[predicted_classes[i]]}\")"
   ]
  },
  {
   "cell_type": "code",
   "execution_count": 37,
   "id": "663246c6-e6a9-44f2-aafb-959535701947",
   "metadata": {
    "tags": []
   },
   "outputs": [],
   "source": [
    "# Save the entire model to a HDF5 file\n",
    "model.save(\"Kitchen_Items.h5\")\n"
   ]
  },
  {
   "cell_type": "code",
   "execution_count": 40,
   "id": "f5e598af-7709-4b0d-8fad-597f20525b3a",
   "metadata": {
    "tags": []
   },
   "outputs": [
    {
     "name": "stdout",
     "output_type": "stream",
     "text": [
      "1/1 [==============================] - 0s 78ms/step\n",
      "Predicted class: 6\n"
     ]
    }
   ],
   "source": [
    "import numpy as np\n",
    "from tensorflow.keras.models import load_model\n",
    "from tensorflow.keras.preprocessing import image\n",
    "\n",
    "# Load the trained model\n",
    "model = load_model(\"Kitchen_Items.h5\")  # Replace with the path to your saved checkpoint\n",
    "\n",
    "# Function to preprocess an image for prediction\n",
    "def preprocess_image(img_path):\n",
    "    img = image.load_img(img_path, target_size=(224, 224))\n",
    "    img_array = image.img_to_array(img)\n",
    "    img_array = np.expand_dims(img_array, axis=0)\n",
    "    img_array /= 255.0  # Rescale to [0, 1]\n",
    "    return img_array\n",
    "\n",
    "# Example: Path to a new image you want to predict\n",
    "new_image_path = \"images (1).jpeg\"\n",
    "\n",
    "# Preprocess the image\n",
    "new_image = preprocess_image(new_image_path)\n",
    "\n",
    "# Make predictions\n",
    "predictions = model.predict(new_image)\n",
    "\n",
    "# Get the predicted class index\n",
    "predicted_class_index = np.argmax(predictions)\n",
    "\n",
    "# Map the class index to the class label\n",
    "class_labels = list(train_generator.class_indices.keys())\n",
    "predicted_class_label = class_labels[predicted_class_index]\n",
    "\n",
    "print(f\"Predicted class: {predicted_class_label}\")"
   ]
  },
  {
   "cell_type": "code",
   "execution_count": 33,
   "id": "bb994d18-ce61-4a97-b913-c7c15a22aae7",
   "metadata": {
    "tags": []
   },
   "outputs": [
    {
     "name": "stdout",
     "output_type": "stream",
     "text": [
      "Available Classes:\n",
      "Class Index 0: 0\n",
      "Class Index 1: 1\n",
      "Class Index 2: 2\n",
      "Class Index 3: 3\n",
      "Class Index 4: 4\n",
      "Class Index 5: 5\n",
      "Class Index 6: 6\n"
     ]
    }
   ],
   "source": [
    "# Assuming train_generator is your ImageDataGenerator for training\n",
    "class_labels = train_generator.class_indices\n",
    "\n",
    "# Display the available classes\n",
    "print(\"Available Classes:\")\n",
    "for class_name, class_index in class_labels.items():\n",
    "    print(f\"Class Index {class_index}: {class_name}\")\n"
   ]
  },
  {
   "cell_type": "code",
   "execution_count": null,
   "id": "61f13ab0-115c-4a87-bea9-f8c081b252fc",
   "metadata": {},
   "outputs": [],
   "source": []
  }
 ],
 "metadata": {
  "kernelspec": {
   "display_name": "Python 3 (ipykernel)",
   "language": "python",
   "name": "python3"
  },
  "language_info": {
   "codemirror_mode": {
    "name": "ipython",
    "version": 3
   },
   "file_extension": ".py",
   "mimetype": "text/x-python",
   "name": "python",
   "nbconvert_exporter": "python",
   "pygments_lexer": "ipython3",
   "version": "3.11.5"
  }
 },
 "nbformat": 4,
 "nbformat_minor": 5
}
